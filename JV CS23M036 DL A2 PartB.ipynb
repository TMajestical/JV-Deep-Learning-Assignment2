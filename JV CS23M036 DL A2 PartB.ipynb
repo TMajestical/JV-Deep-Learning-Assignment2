{
 "cells": [
  {
   "cell_type": "code",
   "execution_count": 1,
   "metadata": {},
   "outputs": [],
   "source": [
    "#JV"
   ]
  },
  {
   "cell_type": "markdown",
   "metadata": {},
   "source": [
    "I would develop the code for the assignment in this notebook as it is easy to quickly test (and even unit testing).\n",
    "\n",
    "When a module/part is bug free I would add it to the .py file later.\n",
    "\n"
   ]
  },
  {
   "cell_type": "code",
   "execution_count": 2,
   "metadata": {},
   "outputs": [],
   "source": [
    "import os\n",
    "import time\n",
    "from tqdm.notebook import tqdm\n",
    "\n",
    "import numpy as np\n",
    "\n",
    "import torch\n",
    "import torchvision\n",
    "import torch.nn as nn\n",
    "import torch.nn.functional as F\n",
    "import torch.optim as optim\n",
    "from torchvision import transforms\n",
    "from torchvision.models import resnet50, ResNet50_Weights\n",
    "import wandb\n",
    "\n",
    "import torch.optim as optims\n",
    "from torch.utils.data import Dataset, DataLoader,ChainDataset, ConcatDataset\n",
    "from torch.utils.data.distributed import DistributedSampler\n",
    "\n",
    "import matplotlib.pyplot as plt"
   ]
  },
  {
   "cell_type": "code",
   "execution_count": 4,
   "metadata": {},
   "outputs": [],
   "source": [
    "seed = 76 #setting this as seed wherever randomness comes"
   ]
  },
  {
   "cell_type": "code",
   "execution_count": null,
   "metadata": {},
   "outputs": [],
   "source": []
  },
  {
   "cell_type": "code",
   "execution_count": 19,
   "metadata": {},
   "outputs": [],
   "source": [
    "class DataPreparation:\n",
    "\n",
    "    def __init__(self,data_dir,device,default_transforms=None):\n",
    "\n",
    "        self.base_dir  = data_dir\n",
    "        self.device = device\n",
    "        self.default_transforms = default_transforms\n",
    "\n",
    "    \n",
    "    def create_dataloader(self,sub_dir,batch_size=16,shuffle=True,num_workers=2,data_augmentation_transforms = None,pin_memory = False):\n",
    "\n",
    "        \"\"\"\n",
    "        Method to create dataset and return dataloader after applying all necessary transforms.\n",
    "\n",
    "        params:\n",
    "\n",
    "            sub_dir : \"train/\" or \"validation/\" or \"test/\"\n",
    "            batch_size : The batch size in which training has to be performed.\n",
    "            shuffle : whether shuffling must be done before sampling.\n",
    "            num_works : Number of workers to be used on the dataset.\n",
    "            data_augmentation_transforms : Either None or List of List of transforms, with each sub-list leading to a dataset.\n",
    "\n",
    "        Returns:\n",
    "\n",
    "            Dataloader corresponding to the dataset.\n",
    "        \n",
    "        \"\"\"\n",
    "\n",
    "        print(f\"Preparing data from {sub_dir}\")\n",
    "\n",
    "        \n",
    "        ## The most basic list of transforms applied to the orignal train dataset and validation and test dataset.\n",
    "        vanilla_transforms = [self.default_transforms]\n",
    "\n",
    "        if (\"train\" in sub_dir) and (data_augmentation_transforms): ## if data augmentation is to be done\n",
    "            \n",
    "            original_dataset = torchvision.datasets.ImageFolder(root=self.base_dir+sub_dir,transform=transforms.Compose(vanilla_transforms))\n",
    "\n",
    "            dataset_list = [original_dataset]\n",
    "            \n",
    "            for aug_transform in data_augmentation_transforms:\n",
    "                \n",
    "                cur_data_transforms_list = [self.default_transforms] + aug_transform \n",
    "                cur_dataset = torchvision.datasets.ImageFolder(root=self.base_dir+sub_dir,transform=transforms.Compose(cur_data_transforms_list))\n",
    "                dataset_list.append(cur_dataset)\n",
    "\n",
    "            self.dataset = ConcatDataset(dataset_list)\n",
    "        else:\n",
    "\n",
    "            self.dataset = torchvision.datasets.ImageFolder(root=self.base_dir+sub_dir,transform=transforms.Compose(vanilla_transforms))\n",
    "\n",
    "        \n",
    "        \n",
    "        ## Now create the data loader\n",
    "        \n",
    "        sampler = None ## unless the dataloading is distributed across devices or processes.\n",
    "        \n",
    "        if \"train\" in sub_dir:\n",
    "\n",
    "            #torch.distributed.init_process_group(rank=0,world_size = 4)\n",
    "\n",
    "            #sampler = DistributedSampler(self.dataset)\n",
    "\n",
    "            self.loader = torch.utils.data.DataLoader(dataset=self.dataset,batch_size=batch_size,shuffle=shuffle,num_workers=num_workers,pin_memory = pin_memory,sampler=sampler)\n",
    "\n",
    "        else:\n",
    "\n",
    "            num_workers = 3\n",
    "            pin_memory = False\n",
    "\n",
    "            self.loader = torch.utils.data.DataLoader(self.dataset,batch_size=batch_size,shuffle=False,num_workers=num_workers,pin_memory = pin_memory,sampler=sampler)\n",
    "            \n",
    "        return self.loader\n",
    "        "
   ]
  },
  {
   "cell_type": "code",
   "execution_count": null,
   "metadata": {},
   "outputs": [],
   "source": []
  },
  {
   "cell_type": "code",
   "execution_count": 24,
   "metadata": {},
   "outputs": [],
   "source": [
    "class Experiment:\n",
    "\n",
    "    \"\"\"\n",
    "    Class to create and conduct experiments\n",
    "    \"\"\"\n",
    "    \n",
    "    def __init__(self,device,base_dir,wandb_logging=False,on_kaggle = False):\n",
    "\n",
    "        self.device = device\n",
    "        self.base_data_dir = base_dir\n",
    "        self.wandb_logging = wandb_logging\n",
    "        self.on_kaggle = on_kaggle\n",
    "\n",
    "    def create_dataloaders(self,batch_size,shuffle,list_of_train_data_augmentation_transforms,num_workers=0,pin_memory=False):\n",
    "\n",
    "        \"\"\"\n",
    "        Method to create dataloaders for train,test and validation datasets, with the help from the DataPreparation class.\n",
    "\n",
    "        params:\n",
    "\n",
    "            batch_size : The training batch size (also applied to test and validation loaders, but anyway its still the same).\n",
    "            shuffle : True/False, whether to shuffle data before sampling.\n",
    "            list_of_train_data_augmentation_transforms : None, if no data augmentation or List of List of transforms, with each sub-list leading to a dataset.\n",
    "            num_workers : Number of workers to support the dataloader, default is 0.\n",
    "            pin_memory : Default is False. Pinning memory makes data loading efficent when a accelerator is used and num of workers>0.\n",
    "\n",
    "        Returns:\n",
    "\n",
    "            Torch dataloader objects for training,testing and validation data.\n",
    "        \n",
    "        \"\"\"\n",
    "        ## Create an object of the data preparation class\n",
    "        dataprep = DataPreparation(data_dir=self.base_data_dir,device = self.device,default_transforms = self.default_transforms)\n",
    "\n",
    "        if (not self.device == \"cpu\") and num_workers>0:\n",
    "            pin_memory = True\n",
    "\n",
    "        ## create a train dataset loader\n",
    "        self.train_loader = dataprep.create_dataloader(sub_dir = \"train/\",batch_size = batch_size,shuffle = shuffle, num_workers = num_workers,data_augmentation_transforms = list_of_train_data_augmentation_transforms,pin_memory=pin_memory)\n",
    "\n",
    "        ## it is not efficient to pin memory for validation and test datasets,as they are relatively small.\n",
    "        self.val_loader = dataprep.create_dataloader(sub_dir = \"validation/\",batch_size = batch_size,shuffle = shuffle, num_workers = num_workers,pin_memory=False)\n",
    "        self.test_loader = dataprep.create_dataloader(sub_dir = \"test/\",batch_size = batch_size,shuffle = shuffle, num_workers = num_workers,pin_memory=False)\n",
    "\n",
    "        return self.train_loader,self.val_loader,self.test_loader\n",
    "\n",
    "\n",
    "    def createResNet(self,num_output_neurons):\n",
    "\n",
    "        \"\"\"\n",
    "        Method to Create the ResNet architecture with the pre-trained weights. Making suitable for finetuning.\n",
    "\n",
    "        Params:\n",
    "\n",
    "            num_output_neurons: Number of neurons in the output layer.\n",
    "\n",
    "            \n",
    "        Returns:\n",
    "        \n",
    "            None.\n",
    "            \n",
    "        \"\"\"\n",
    "        \n",
    "        self.model = resnet50(weights=ResNet50_Weights.IMAGENET1K_V2) ##using weights of IMAGENET1K_V2, which gave an accuracy of 80%\n",
    "\n",
    "        weights = ResNet50_Weights.IMAGENET1K_V2\n",
    "        self.default_transforms = weights.transforms() ## these are the transforms to be applied on the input images before feeding to the model\n",
    "        \n",
    "        # Freeze all layers except the last layer\n",
    "        for param in self.model.parameters():\n",
    "            param.requires_grad = False\n",
    "        \n",
    "        ## Now the output layer of ResNet50 model simply passes through the output of the penultimate hidden layer.\n",
    "        ## last fully connected layer of resnet can be accessed using model.fc\n",
    "        \n",
    "        resnet_last_fc_size = self.model.fc.in_features ## first store the output size.\n",
    "        self.model.fc = nn.Identity() \n",
    "        \n",
    "        ## now add an output layer with 10 neurons to ResNet50 model\n",
    "        self.model.fc = nn.Linear(resnet_last_fc_size, out_features=num_output_neurons)\n",
    "        \n",
    "        ## Initializae weights and biases of this layer. Using xavier initialization for weights\n",
    "        torch.nn.init.xavier_uniform_(self.model.fc.weight)\n",
    "        self.model.fc.bias.data.fill_(0.01)\n",
    "        \n",
    "        # Make the weights of the last layer trainable\n",
    "        for param in self.model.fc.parameters():\n",
    "            param.requires_grad = True\n",
    "        \n",
    "        ## Use LogSoftmax activation for the output layer\n",
    "        #model.fc = nn.LogSoftmax(model.fc)\n",
    "        \n",
    "        self.model.to(self.device) ## move the model to the device\n",
    "\n",
    "\n",
    "    def compute_accuracy(self,model,data_iterator):\n",
    "\n",
    "        \"\"\"\n",
    "        Method to compute the accuracy of the given model over the dataset in the data_iterator.\n",
    "\n",
    "        params:\n",
    "\n",
    "            model : The torch neural net model whose performance has to be measured.\n",
    "\n",
    "            data_iterator : The data iterator over which the computation of the metrics has to be done.\n",
    "\n",
    "        Returns:\n",
    "\n",
    "            loss,accuracy of the \"model\" over the \"data_iterator\".\n",
    "        \"\"\"\n",
    "    \n",
    "        correct_preds = 0\n",
    "        total_preds = 0\n",
    "    \n",
    "        loss = 0\n",
    "        train_mode = model.training\n",
    "        \n",
    "        # since we're testing, switch of train mode if it is on.\n",
    "        if train_mode:\n",
    "            model.eval()\n",
    "    \n",
    "        with torch.no_grad(): ##don't compute gradients\n",
    "            for data in data_iterator:\n",
    "                images, labels = data\n",
    "                images, labels = images.to(self.device), labels.to(self.device) ## move the inputs and labels to the device\n",
    "        \n",
    "                # calculate outputs by running images through the network\n",
    "                outputs = model(images)\n",
    "                loss += self.criterion(outputs, labels).item() * images.size(0) ## loss.item() is average loss of the batch, so multiply by batch size.\n",
    "                \n",
    "                preds = torch.max(outputs.data, 1)[1]\n",
    "                \n",
    "                total_preds += images.size(0)\n",
    "                correct_preds += (preds == labels).sum().item()\n",
    "        \n",
    "        if train_mode: # if model was originally in train mode, switch it back to train mode.\n",
    "            model.train() ## switch back to train mode\n",
    "    \n",
    "        #print(f'Accuracy of the model on the {len(data_iterator.dataset.samples)} test images: {round(100*correct/total,2)} %')\n",
    "    \n",
    "        accuracy = round(100*correct_preds/total_preds,2)\n",
    "        loss = round(loss/total_preds,2)\n",
    "        \n",
    "        return loss,accuracy\n",
    "\n",
    "    def train(self,lr,weight_decay,loss,optimiser,epochs):\n",
    "\n",
    "        \"\"\"\n",
    "        The method to perform the training, assuming model is already created using createCNNmodel method.\n",
    "\n",
    "        Params:\n",
    "\n",
    "            lr : Learning rate\n",
    "            weight_decay : l2 regularization parameter.\n",
    "            loss : string, loss type. currently only \"crossentropy\" is supported\n",
    "            optimiser : \"adam\",\"nadam\",\"rmsprop\".\n",
    "            epochs : number of epochs to train.\n",
    "            \n",
    "        Returns:\n",
    "\n",
    "            None.\n",
    "        \"\"\"\n",
    "\n",
    "        ## specify the optimiser\n",
    "        if optimiser.lower() == \"adam\":\n",
    "            self.optimiser = optim.Adam(self.model.parameters(), lr=lr,weight_decay=weight_decay)\n",
    "\n",
    "        elif optimiser.lower() == \"nadam\":\n",
    "            self.optimiser = optim.NAdam(self.model.parameters(), lr=lr,weight_decay=weight_decay)\n",
    "\n",
    "        elif optimiser.lower() == \"rmsprop\":\n",
    "            self.optimiser = optim.RMSprop(self.model.parameters(), lr=lr,weight_decay=weight_decay)\n",
    "\n",
    "        ## Specify the loss criteria\n",
    "        if loss.lower() == \"crossentropy\":\n",
    "            self.criterion = nn.CrossEntropyLoss().to(self.device)\n",
    "\n",
    "        \n",
    "\n",
    "        start_time = time.time()\n",
    "\n",
    "        ## loop over the dataset multiple times\n",
    "        for epoch in tqdm(range(epochs)):  \n",
    "            \n",
    "            correct_preds = 0\n",
    "            total = 0\n",
    "            count = 0\n",
    "            epoch_loss = 0.0\n",
    "        \n",
    "            \n",
    "            for i, data in enumerate(self.train_loader):\n",
    "                \n",
    "                ## i is batch index\n",
    "                \n",
    "                images, labels = data[0].to(self.device),data[1].to(self.device)  ## move the images and labels to the device.\n",
    "        \n",
    "                \n",
    "                # zero the parameter gradients\n",
    "                self.optimiser.zero_grad()\n",
    "            \n",
    "                # forward + backward + optimize\n",
    "                # logsoftmax is the output activation\n",
    "                outputs = F.log_softmax(self.model(images).to(self.device),dim=1)\n",
    "                \n",
    "                loss = self.criterion(outputs, labels)\n",
    "                loss.backward()\n",
    "                self.optimiser.step()\n",
    "            \n",
    "                epoch_loss +=  loss.item() * images.size(0) ## loss.item() is average loss of the batch, so multiply by batch size.\n",
    "                \n",
    "                preds = torch.max(outputs.data, 1)[1]\n",
    "                \n",
    "                total += images.size(0)\n",
    "                correct_preds += (preds == labels).sum().item()\n",
    "\n",
    "\n",
    "            train_accuracy = round(100*correct_preds/total,2)\n",
    "            train_loss = epoch_loss/total\n",
    "            \n",
    "            val_loss,val_accuracy = self.compute_accuracy(self.model,self.val_loader)\n",
    "        \n",
    "            if epoch%5 == 0:\n",
    "\n",
    "\n",
    "                if self.on_kaggle:\n",
    "                    torch.save(self.model, \"/kaggle/working/model\")\n",
    "                else:\n",
    "                    torch.save(self.model, \"Model\")\n",
    "                \n",
    "        \n",
    "            if epoch == 0:\n",
    "                print(f\"Samples in Train Data : {total}\")\n",
    "\n",
    "            if self.wandb_logging:\n",
    "\n",
    "                wandb.log({'train loss': train_loss, 'train accuracy': train_accuracy, 'Validation loss': val_loss, 'Validation accuracy': val_accuracy,'epoch': epoch+1})\n",
    "\n",
    "            print(f'Epoch : {epoch+1}\\t Train Accuracy : {train_accuracy:.2f}%\\t Train loss: {train_loss:.2f}\\t Validation Accuracy : {val_accuracy:.2f}%\\t Validation Loss : {val_loss:.2f}')\n",
    "            epoch_loss = 0.0\n",
    "        \n",
    "        print('Finished Training!!')\n",
    "        \n",
    "        end_time = time.time() - start_time\n",
    "        print(f\"Time Taken for Training: {round(end_time/60,2)}\")\n",
    "\n",
    "    \n",
    "        "
   ]
  },
  {
   "cell_type": "markdown",
   "metadata": {},
   "source": [
    "## Choosing ResNet50 as pre-trained model for finetuning.\n",
    "\n",
    "Because:\n",
    "\n",
    "1. The Identity connections used in the architecture is a really cool idea. Wanted to have some hands on on it.\n",
    "2. It has a really good accuracy on the ImageNet challenge, which means it is good at recognizing many species like shark etc. So hoping it would give a boost now."
   ]
  },
  {
   "cell_type": "markdown",
   "metadata": {},
   "source": [
    "### Addressing the issue of input image shape difference between ResNet and the Dataset.\n",
    "\n",
    "\n",
    "The inference transforms are available at ResNet50_Weights.IMAGENET1K_V2.transforms and perform the following preprocessing operations: Accepts PIL.Image, batched (B, C, H, W) and single (C, H, W) image torch.Tensor objects. The images are resized to resize_size=[232] using interpolation=InterpolationMode.BILINEAR, followed by a central crop of crop_size=[224]. Finally the values are first rescaled to [0.0, 1.0] and then normalized using mean=[0.485, 0.456, 0.406] and std=[0.229, 0.224, 0.225].\n",
    "\n",
    "\n",
    "Source : [https://pytorch.org/vision/stable/models/generated/torchvision.models.resnet50.html#torchvision.models.resnet50]"
   ]
  },
  {
   "cell_type": "code",
   "execution_count": null,
   "metadata": {},
   "outputs": [],
   "source": [
    " "
   ]
  },
  {
   "cell_type": "code",
   "execution_count": 36,
   "metadata": {},
   "outputs": [
    {
     "name": "stderr",
     "output_type": "stream",
     "text": [
      "Clipping input data to the valid range for imshow with RGB data ([0..1] for floats or [0..255] for integers).\n"
     ]
    },
    {
     "data": {
      "image/png": "[encoded data removed]",
      "text/plain": [
       "<Figure size 640x480 with 1 Axes>"
      ]
     },
     "metadata": {},
     "output_type": "display_data"
    }
   ],
   "source": [
    "\"\"\"\n",
    "To viz images after transform\n",
    "\"\"\"\n",
    "\n",
    "#plt.imshow(img[1].permute(1,2,0))\n",
    "#plt.show()"
   ]
  },
  {
   "cell_type": "code",
   "execution_count": 8,
   "metadata": {},
   "outputs": [
    {
     "name": "stderr",
     "output_type": "stream",
     "text": [
      "\u001b[34m\u001b[1mwandb\u001b[0m: Currently logged in as: \u001b[33mcs23m036\u001b[0m (\u001b[33mtmajestical\u001b[0m). Use \u001b[1m`wandb login --relogin`\u001b[0m to force relogin\n"
     ]
    },
    {
     "name": "stdout",
     "output_type": "stream",
     "text": [
      "Create sweep with ID: shrmtcif\n",
      "Sweep URL: https://wandb.ai/tmajestical/JV_CS23M036_TEJASVI_DL_ASSIGNMENT2/sweeps/shrmtcif\n"
     ]
    }
   ],
   "source": [
    "wandb.login(key=\"38853ce9d1432bd40bf80d2d27657183fc335aeb\")\n",
    "\n",
    "\n",
    "sweep_config = {\n",
    "    'method': 'random',\n",
    "    'name' : 'PA2 Hyper Sweep Factor Two',\n",
    "    'metric': {\n",
    "      'name': 'Validation accuracy',\n",
    "      'goal': 'maximize'\n",
    "    },\n",
    "    'parameters': {\n",
    "\n",
    "        'optimiser': {\n",
    "            'values': [\"adam\",\"rmsprop\",\"nadam\"]\n",
    "        },\n",
    "        \n",
    "        'lr': {\n",
    "            'values': [1e-3,1e-4,3e-4]\n",
    "        },\n",
    "        \n",
    "        'weight_decay': {\n",
    "            'values': [0,5e-3,5e-4]\n",
    "        },\n",
    "\n",
    "\n",
    "        'data_aug' : {\n",
    "\n",
    "            'values' : [None,1,2]\n",
    "        },\n",
    "\n",
    "        'epochs' : {\n",
    "\n",
    "            'values' : [5]\n",
    "        },\n",
    "\n",
    "        'batch_size':{\n",
    "            'values' : [16,32]\n",
    "        }\n",
    "        }\n",
    "\n",
    "        }\n",
    "    }\n",
    "\n",
    "sweep_id = wandb.sweep(sweep=sweep_config, project='JV_CS23M036_TEJASVI_DL_ASSIGNMENT2')"
   ]
  },
  {
   "cell_type": "code",
   "execution_count": null,
   "metadata": {},
   "outputs": [],
   "source": []
  },
  {
   "cell_type": "code",
   "execution_count": 12,
   "metadata": {},
   "outputs": [],
   "source": [
    "def setup_and_start_expt(config,wandb_log=False,kaggle = False):\n",
    "    ##using apple silicon GPU\n",
    "\n",
    "    wandb_logging = wandb_log\n",
    "    on_kaggle = kaggle\n",
    "\n",
    "    if on_kaggle:\n",
    "        device = torch.device(\"cuda:0\" if torch.cuda.is_available() else \"cpu\")\n",
    "        base_data_dir = \"/kaggle/input/jv-inaturalist-dataset/inaturalist_12K/\"\n",
    "    else:\n",
    "        device = \"mps\"\n",
    "        base_data_dir = \"inaturalist_12K/\"\n",
    "        \n",
    "    \n",
    "    print(f\"Using {device}\")\n",
    "\n",
    "    ## dataloader creation hyperparams:\n",
    "    \n",
    "    batch_size = config['batch_size']\n",
    "    shuffle = True\n",
    "    num_workers = 2\n",
    "    pin_memory = False\n",
    "\n",
    "    #RandomSolarize(threshold=192.0)\n",
    "\n",
    "    if config['data_aug']:\n",
    "        \n",
    "        train_data_augmentation_transforms1 = [transforms.RandomPerspective(p=1)] ## Random perspective transform\n",
    "        train_data_augmentation_transforms2 = [transforms.ColorJitter(brightness=.5, hue=.5)] ## colour jitter\n",
    "        #train_data_augmentation_transforms = [transforms.ElasticTransform()] ## this is good, but computationally extremely expensive\n",
    "        \n",
    "        list_of_train_data_augmentation_transforms = [train_data_augmentation_transforms1,train_data_augmentation_transforms2]\n",
    "        list_of_train_data_augmentation_transforms = list_of_train_data_augmentation_transforms[:config['data_aug']]\n",
    "    \n",
    "    else: ## if no data augmentation, train_loader returned would just be on the original dataset.\n",
    "        \n",
    "        list_of_train_data_augmentation_transforms = []\n",
    "        \n",
    "\n",
    "    ## create an experiment\n",
    "    experiment = Experiment(device=device,base_dir = base_data_dir, wandb_logging=False,on_kaggle = False)\n",
    "\n",
    "     ## CNN Hyperparams\n",
    "    num_output_neurons =  10\n",
    "    \n",
    "    ## create CNN model\n",
    "    experiment.createResNet(num_output_neurons)\n",
    "    \n",
    "    ##create data loaders for train, validation and test datasets.\n",
    "    train_loader,val_loader,test_loader  = experiment.create_dataloaders(batch_size=batch_size,shuffle=shuffle,list_of_train_data_augmentation_transforms=list_of_train_data_augmentation_transforms,num_workers=num_workers,pin_memory=pin_memory)\n",
    "    \n",
    "    \n",
    "    ##training Hyper Params:\n",
    "    \n",
    "    lr = config['lr']\n",
    "    weight_decay = config['weight_decay']\n",
    "    optimiser = config['optimiser']\n",
    "    epochs = config['epochs']\n",
    "    loss = \"crossentropy\"\n",
    "    \n",
    "    experiment.train(lr = lr,weight_decay = weight_decay,loss = loss,optimiser = optimiser,epochs = epochs)\n"
   ]
  },
  {
   "cell_type": "code",
   "execution_count": 22,
   "metadata": {},
   "outputs": [],
   "source": [
    "custom_config = {\n",
    "\n",
    "        'optimiser': \"adam\",\n",
    "        \n",
    "        'lr' : 1e-4,\n",
    "        \n",
    "        'weight_decay': 0,\n",
    "\n",
    "        'data_aug' : None,\n",
    "\n",
    "        'epochs' : 2,\n",
    "\n",
    "        'batch_size': 16\n",
    "    }"
   ]
  },
  {
   "cell_type": "code",
   "execution_count": 23,
   "metadata": {},
   "outputs": [
    {
     "name": "stdout",
     "output_type": "stream",
     "text": [
      "Using mps\n",
      "Preparing data from train/\n",
      "Preparing data from validation/\n",
      "Preparing data from test/\n"
     ]
    },
    {
     "data": {
      "application/vnd.jupyter.widget-view+json": {
       "model_id": "1d384fcd459c4b329dffc3f2ace4eedf",
       "version_major": 2,
       "version_minor": 0
      },
      "text/plain": [
       "  0%|          | 0/2 [00:00<?, ?it/s]"
      ]
     },
     "metadata": {},
     "output_type": "display_data"
    },
    {
     "name": "stderr",
     "output_type": "stream",
     "text": [
      "/var/folders/z4/__x0n5jn4f1c4z527hs4r4_00000gn/T/ipykernel_5586/2281458533.py:203: UserWarning: Implicit dimension choice for log_softmax has been deprecated. Change the call to include dim=X as an argument.\n",
      "  outputs = F.log_softmax(self.model(images).to(self.device))\n"
     ]
    },
    {
     "name": "stdout",
     "output_type": "stream",
     "text": [
      "Samples in Train Data : 7999\n",
      "Epoch : 1\t Train Accuracy : 41.62%\t Train loss: 1.92\t Validation Accuracy : 61.50%\t Validation Loss : 1.62\n",
      "Epoch : 2\t Train Accuracy : 65.78%\t Train loss: 1.40\t Validation Accuracy : 71.45%\t Validation Loss : 1.28\n",
      "Finished Training!!\n",
      "Time Taken for Training: 2.42\n"
     ]
    }
   ],
   "source": [
    "#setup_and_start_expt(custom_config)"
   ]
  },
  {
   "cell_type": "code",
   "execution_count": null,
   "metadata": {},
   "outputs": [],
   "source": []
  },
  {
   "cell_type": "code",
   "execution_count": null,
   "metadata": {},
   "outputs": [
    {
     "name": "stderr",
     "output_type": "stream",
     "text": [
      "\u001b[34m\u001b[1mwandb\u001b[0m: Agent Starting Run: sje1giea with config:\n",
      "\u001b[34m\u001b[1mwandb\u001b[0m: \tImage_Crop_Size: 600\n",
      "\u001b[34m\u001b[1mwandb\u001b[0m: \tactivation: relu\n",
      "\u001b[34m\u001b[1mwandb\u001b[0m: \tbatch_norm: False\n",
      "\u001b[34m\u001b[1mwandb\u001b[0m: \tconv_filter_factor: 0.5\n",
      "\u001b[34m\u001b[1mwandb\u001b[0m: \tdata_aug: None\n",
      "\u001b[34m\u001b[1mwandb\u001b[0m: \tdropout: 0.2\n",
      "\u001b[34m\u001b[1mwandb\u001b[0m: \tepochs: 8\n",
      "\u001b[34m\u001b[1mwandb\u001b[0m: \tfilter_size: 7\n",
      "\u001b[34m\u001b[1mwandb\u001b[0m: \thidden_size: 32\n",
      "\u001b[34m\u001b[1mwandb\u001b[0m: \tlr: 0.0001\n",
      "\u001b[34m\u001b[1mwandb\u001b[0m: \tnum_conv_layers: 5\n",
      "\u001b[34m\u001b[1mwandb\u001b[0m: \tnum_filters: 16\n",
      "\u001b[34m\u001b[1mwandb\u001b[0m: \tnum_hidden_layers: 1\n",
      "\u001b[34m\u001b[1mwandb\u001b[0m: \toptimiser: rmsprop\n",
      "\u001b[34m\u001b[1mwandb\u001b[0m: \tweight_decay: 0.0005\n"
     ]
    },
    {
     "data": {
      "text/html": [
       "wandb version 0.16.5 is available!  To upgrade, please run:\n",
       " $ pip install wandb --upgrade"
      ],
      "text/plain": [
       "<IPython.core.display.HTML object>"
      ]
     },
     "metadata": {},
     "output_type": "display_data"
    },
    {
     "data": {
      "text/html": [
       "Tracking run with wandb version 0.16.4"
      ],
      "text/plain": [
       "<IPython.core.display.HTML object>"
      ]
     },
     "metadata": {},
     "output_type": "display_data"
    },
    {
     "data": {
      "text/html": [
       "Run data is saved locally in <code>/Users/tejasmalladi/Documents/OM NAMO VENKATESAYA/Jai Vigneshwara IIT MADRAS/JV SEM2/JV Deep Learning/JV Assignments/JV-Deep-Learning-Assignment2/wandb/run-20240402_222528-sje1giea</code>"
      ],
      "text/plain": [
       "<IPython.core.display.HTML object>"
      ]
     },
     "metadata": {},
     "output_type": "display_data"
    },
    {
     "data": {
      "text/html": [
       "Syncing run <strong><a href='https://wandb.ai/tmajestical/JV_CS23M036_TEJASVI_DL_ASSIGNMENT2/runs/sje1giea' target=\"_blank\">generous-sweep-1</a></strong> to <a href='https://wandb.ai/tmajestical/JV_CS23M036_TEJASVI_DL_ASSIGNMENT2' target=\"_blank\">Weights & Biases</a> (<a href='https://wandb.me/run' target=\"_blank\">docs</a>)<br/>Sweep page: <a href='https://wandb.ai/tmajestical/JV_CS23M036_TEJASVI_DL_ASSIGNMENT2/sweeps/shrmtcif' target=\"_blank\">https://wandb.ai/tmajestical/JV_CS23M036_TEJASVI_DL_ASSIGNMENT2/sweeps/shrmtcif</a>"
      ],
      "text/plain": [
       "<IPython.core.display.HTML object>"
      ]
     },
     "metadata": {},
     "output_type": "display_data"
    },
    {
     "data": {
      "text/html": [
       " View project at <a href='https://wandb.ai/tmajestical/JV_CS23M036_TEJASVI_DL_ASSIGNMENT2' target=\"_blank\">https://wandb.ai/tmajestical/JV_CS23M036_TEJASVI_DL_ASSIGNMENT2</a>"
      ],
      "text/plain": [
       "<IPython.core.display.HTML object>"
      ]
     },
     "metadata": {},
     "output_type": "display_data"
    },
    {
     "data": {
      "text/html": [
       " View sweep at <a href='https://wandb.ai/tmajestical/JV_CS23M036_TEJASVI_DL_ASSIGNMENT2/sweeps/shrmtcif' target=\"_blank\">https://wandb.ai/tmajestical/JV_CS23M036_TEJASVI_DL_ASSIGNMENT2/sweeps/shrmtcif</a>"
      ],
      "text/plain": [
       "<IPython.core.display.HTML object>"
      ]
     },
     "metadata": {},
     "output_type": "display_data"
    },
    {
     "data": {
      "text/html": [
       " View run at <a href='https://wandb.ai/tmajestical/JV_CS23M036_TEJASVI_DL_ASSIGNMENT2/runs/sje1giea' target=\"_blank\">https://wandb.ai/tmajestical/JV_CS23M036_TEJASVI_DL_ASSIGNMENT2/runs/sje1giea</a>"
      ],
      "text/plain": [
       "<IPython.core.display.HTML object>"
      ]
     },
     "metadata": {},
     "output_type": "display_data"
    },
    {
     "name": "stdout",
     "output_type": "stream",
     "text": [
      "Using mps\n",
      "Preparing data from train/\n",
      "Preparing data from validation/\n",
      "Preparing data from test/\n"
     ]
    },
    {
     "data": {
      "application/vnd.jupyter.widget-view+json": {
       "model_id": "61c7d8d65c8e47998b8402c53326e35a",
       "version_major": 2,
       "version_minor": 0
      },
      "text/plain": [
       "  0%|          | 0/8 [00:00<?, ?it/s]"
      ]
     },
     "metadata": {},
     "output_type": "display_data"
    },
    {
     "name": "stdout",
     "output_type": "stream",
     "text": [
      "Samples in Train Data : 7999\n",
      "Epoch : 1\t Train Accuracy : 15.01%\t Train loss: 2.29\t Validation Accuracy : 17.35%\t Validation Loss : 2.22\n",
      "Epoch : 2\t Train Accuracy : 20.87%\t Train loss: 2.18\t Validation Accuracy : 23.85%\t Validation Loss : 2.13\n",
      "Epoch : 3\t Train Accuracy : 25.45%\t Train loss: 2.08\t Validation Accuracy : 26.50%\t Validation Loss : 2.06\n",
      "Epoch : 4\t Train Accuracy : 32.08%\t Train loss: 1.94\t Validation Accuracy : 28.45%\t Validation Loss : 2.02\n",
      "Epoch : 5\t Train Accuracy : 37.63%\t Train loss: 1.79\t Validation Accuracy : 30.65%\t Validation Loss : 2.00\n",
      "Epoch : 6\t Train Accuracy : 44.72%\t Train loss: 1.58\t Validation Accuracy : 29.70%\t Validation Loss : 2.06\n",
      "Epoch : 7\t Train Accuracy : 53.66%\t Train loss: 1.33\t Validation Accuracy : 28.10%\t Validation Loss : 2.23\n",
      "Epoch : 8\t Train Accuracy : 62.77%\t Train loss: 1.07\t Validation Accuracy : 27.15%\t Validation Loss : 2.43\n",
      "Finished Training!!\n",
      "Time Taken for Training: 16.33\n"
     ]
    },
    {
     "data": {
      "application/vnd.jupyter.widget-view+json": {
       "model_id": "",
       "version_major": 2,
       "version_minor": 0
      },
      "text/plain": [
       "VBox(children=(Label(value='0.001 MB of 0.001 MB uploaded\\r'), FloatProgress(value=1.0, max=1.0)))"
      ]
     },
     "metadata": {},
     "output_type": "display_data"
    },
    {
     "data": {
      "text/html": [
       "<style>\n",
       "    table.wandb td:nth-child(1) { padding: 0 10px; text-align: left ; width: auto;} td:nth-child(2) {text-align: left ; width: 100%}\n",
       "    .wandb-row { display: flex; flex-direction: row; flex-wrap: wrap; justify-content: flex-start; width: 100% }\n",
       "    .wandb-col { display: flex; flex-direction: column; flex-basis: 100%; flex: 1; padding: 10px; }\n",
       "    </style>\n",
       "<div class=\"wandb-row\"><div class=\"wandb-col\"><h3>Run history:</h3><br/><table class=\"wandb\"><tr><td>Validation accuracy</td><td>▁▄▆▇██▇▆</td></tr><tr><td>Validation loss</td><td>▅▃▂▁▁▂▅█</td></tr><tr><td>epoch</td><td>▁▂▃▄▅▆▇█</td></tr><tr><td>train accuracy</td><td>▁▂▃▄▄▅▇█</td></tr><tr><td>train loss</td><td>█▇▇▆▅▄▃▁</td></tr></table><br/></div><div class=\"wandb-col\"><h3>Run summary:</h3><br/><table class=\"wandb\"><tr><td>Validation accuracy</td><td>27.15</td></tr><tr><td>Validation loss</td><td>2.43</td></tr><tr><td>epoch</td><td>8</td></tr><tr><td>train accuracy</td><td>62.77</td></tr><tr><td>train loss</td><td>1.06882</td></tr></table><br/></div></div>"
      ],
      "text/plain": [
       "<IPython.core.display.HTML object>"
      ]
     },
     "metadata": {},
     "output_type": "display_data"
    },
    {
     "data": {
      "text/html": [
       " View run <strong style=\"color:#cdcd00\">generous-sweep-1</strong> at: <a href='https://wandb.ai/tmajestical/JV_CS23M036_TEJASVI_DL_ASSIGNMENT2/runs/sje1giea' target=\"_blank\">https://wandb.ai/tmajestical/JV_CS23M036_TEJASVI_DL_ASSIGNMENT2/runs/sje1giea</a><br/>Synced 6 W&B file(s), 0 media file(s), 0 artifact file(s) and 0 other file(s)"
      ],
      "text/plain": [
       "<IPython.core.display.HTML object>"
      ]
     },
     "metadata": {},
     "output_type": "display_data"
    },
    {
     "data": {
      "text/html": [
       "Find logs at: <code>./wandb/run-20240402_222528-sje1giea/logs</code>"
      ],
      "text/plain": [
       "<IPython.core.display.HTML object>"
      ]
     },
     "metadata": {},
     "output_type": "display_data"
    },
    {
     "name": "stderr",
     "output_type": "stream",
     "text": [
      "\u001b[34m\u001b[1mwandb\u001b[0m: Sweep Agent: Waiting for job.\n",
      "\u001b[34m\u001b[1mwandb\u001b[0m: Job received.\n",
      "\u001b[34m\u001b[1mwandb\u001b[0m: Agent Starting Run: mp8y7y88 with config:\n",
      "\u001b[34m\u001b[1mwandb\u001b[0m: \tImage_Crop_Size: 500\n",
      "\u001b[34m\u001b[1mwandb\u001b[0m: \tactivation: relu\n",
      "\u001b[34m\u001b[1mwandb\u001b[0m: \tbatch_norm: True\n",
      "\u001b[34m\u001b[1mwandb\u001b[0m: \tconv_filter_factor: 0.5\n",
      "\u001b[34m\u001b[1mwandb\u001b[0m: \tdata_aug: 2\n",
      "\u001b[34m\u001b[1mwandb\u001b[0m: \tdropout: None\n",
      "\u001b[34m\u001b[1mwandb\u001b[0m: \tepochs: 8\n",
      "\u001b[34m\u001b[1mwandb\u001b[0m: \tfilter_size: 5\n",
      "\u001b[34m\u001b[1mwandb\u001b[0m: \thidden_size: 32\n",
      "\u001b[34m\u001b[1mwandb\u001b[0m: \tlr: 0.0003\n",
      "\u001b[34m\u001b[1mwandb\u001b[0m: \tnum_conv_layers: 5\n",
      "\u001b[34m\u001b[1mwandb\u001b[0m: \tnum_filters: 16\n",
      "\u001b[34m\u001b[1mwandb\u001b[0m: \tnum_hidden_layers: 1\n",
      "\u001b[34m\u001b[1mwandb\u001b[0m: \toptimiser: adam\n",
      "\u001b[34m\u001b[1mwandb\u001b[0m: \tweight_decay: 0\n"
     ]
    },
    {
     "data": {
      "text/html": [
       "wandb version 0.16.5 is available!  To upgrade, please run:\n",
       " $ pip install wandb --upgrade"
      ],
      "text/plain": [
       "<IPython.core.display.HTML object>"
      ]
     },
     "metadata": {},
     "output_type": "display_data"
    },
    {
     "data": {
      "text/html": [
       "Tracking run with wandb version 0.16.4"
      ],
      "text/plain": [
       "<IPython.core.display.HTML object>"
      ]
     },
     "metadata": {},
     "output_type": "display_data"
    },
    {
     "data": {
      "text/html": [
       "Run data is saved locally in <code>/Users/tejasmalladi/Documents/OM NAMO VENKATESAYA/Jai Vigneshwara IIT MADRAS/JV SEM2/JV Deep Learning/JV Assignments/JV-Deep-Learning-Assignment2/wandb/run-20240402_224227-mp8y7y88</code>"
      ],
      "text/plain": [
       "<IPython.core.display.HTML object>"
      ]
     },
     "metadata": {},
     "output_type": "display_data"
    },
    {
     "data": {
      "text/html": [
       "Syncing run <strong><a href='https://wandb.ai/tmajestical/JV_CS23M036_TEJASVI_DL_ASSIGNMENT2/runs/mp8y7y88' target=\"_blank\">floral-sweep-2</a></strong> to <a href='https://wandb.ai/tmajestical/JV_CS23M036_TEJASVI_DL_ASSIGNMENT2' target=\"_blank\">Weights & Biases</a> (<a href='https://wandb.me/run' target=\"_blank\">docs</a>)<br/>Sweep page: <a href='https://wandb.ai/tmajestical/JV_CS23M036_TEJASVI_DL_ASSIGNMENT2/sweeps/shrmtcif' target=\"_blank\">https://wandb.ai/tmajestical/JV_CS23M036_TEJASVI_DL_ASSIGNMENT2/sweeps/shrmtcif</a>"
      ],
      "text/plain": [
       "<IPython.core.display.HTML object>"
      ]
     },
     "metadata": {},
     "output_type": "display_data"
    },
    {
     "data": {
      "text/html": [
       " View project at <a href='https://wandb.ai/tmajestical/JV_CS23M036_TEJASVI_DL_ASSIGNMENT2' target=\"_blank\">https://wandb.ai/tmajestical/JV_CS23M036_TEJASVI_DL_ASSIGNMENT2</a>"
      ],
      "text/plain": [
       "<IPython.core.display.HTML object>"
      ]
     },
     "metadata": {},
     "output_type": "display_data"
    },
    {
     "data": {
      "text/html": [
       " View sweep at <a href='https://wandb.ai/tmajestical/JV_CS23M036_TEJASVI_DL_ASSIGNMENT2/sweeps/shrmtcif' target=\"_blank\">https://wandb.ai/tmajestical/JV_CS23M036_TEJASVI_DL_ASSIGNMENT2/sweeps/shrmtcif</a>"
      ],
      "text/plain": [
       "<IPython.core.display.HTML object>"
      ]
     },
     "metadata": {},
     "output_type": "display_data"
    },
    {
     "data": {
      "text/html": [
       " View run at <a href='https://wandb.ai/tmajestical/JV_CS23M036_TEJASVI_DL_ASSIGNMENT2/runs/mp8y7y88' target=\"_blank\">https://wandb.ai/tmajestical/JV_CS23M036_TEJASVI_DL_ASSIGNMENT2/runs/mp8y7y88</a>"
      ],
      "text/plain": [
       "<IPython.core.display.HTML object>"
      ]
     },
     "metadata": {},
     "output_type": "display_data"
    },
    {
     "name": "stdout",
     "output_type": "stream",
     "text": [
      "Using mps\n",
      "Preparing data from train/\n",
      "Preparing data from validation/\n",
      "Preparing data from test/\n"
     ]
    },
    {
     "data": {
      "application/vnd.jupyter.widget-view+json": {
       "model_id": "1287f8ce4d3b4b938c1bafee14958697",
       "version_major": 2,
       "version_minor": 0
      },
      "text/plain": [
       "  0%|          | 0/8 [00:00<?, ?it/s]"
      ]
     },
     "metadata": {},
     "output_type": "display_data"
    },
    {
     "name": "stdout",
     "output_type": "stream",
     "text": [
      "Samples in Train Data : 23997\n",
      "Epoch : 1\t Train Accuracy : 24.15%\t Train loss: 2.13\t Validation Accuracy : 29.05%\t Validation Loss : 1.97\n",
      "Epoch : 2\t Train Accuracy : 30.46%\t Train loss: 1.98\t Validation Accuracy : 32.05%\t Validation Loss : 1.91\n",
      "Epoch : 3\t Train Accuracy : 34.56%\t Train loss: 1.86\t Validation Accuracy : 32.15%\t Validation Loss : 1.91\n",
      "Epoch : 4\t Train Accuracy : 39.80%\t Train loss: 1.73\t Validation Accuracy : 35.45%\t Validation Loss : 1.86\n",
      "Epoch : 5\t Train Accuracy : 46.03%\t Train loss: 1.58\t Validation Accuracy : 33.85%\t Validation Loss : 1.93\n",
      "Epoch : 6\t Train Accuracy : 53.04%\t Train loss: 1.41\t Validation Accuracy : 32.75%\t Validation Loss : 1.99\n",
      "Epoch : 7\t Train Accuracy : 59.35%\t Train loss: 1.24\t Validation Accuracy : 32.70%\t Validation Loss : 2.10\n",
      "Epoch : 8\t Train Accuracy : 65.42%\t Train loss: 1.09\t Validation Accuracy : 32.10%\t Validation Loss : 2.27\n",
      "Finished Training!!\n",
      "Time Taken for Training: 25.95\n"
     ]
    },
    {
     "data": {
      "application/vnd.jupyter.widget-view+json": {
       "model_id": "",
       "version_major": 2,
       "version_minor": 0
      },
      "text/plain": [
       "VBox(children=(Label(value='0.001 MB of 0.001 MB uploaded\\r'), FloatProgress(value=1.0, max=1.0)))"
      ]
     },
     "metadata": {},
     "output_type": "display_data"
    },
    {
     "data": {
      "text/html": [
       "<style>\n",
       "    table.wandb td:nth-child(1) { padding: 0 10px; text-align: left ; width: auto;} td:nth-child(2) {text-align: left ; width: 100%}\n",
       "    .wandb-row { display: flex; flex-direction: row; flex-wrap: wrap; justify-content: flex-start; width: 100% }\n",
       "    .wandb-col { display: flex; flex-direction: column; flex-basis: 100%; flex: 1; padding: 10px; }\n",
       "    </style>\n",
       "<div class=\"wandb-row\"><div class=\"wandb-col\"><h3>Run history:</h3><br/><table class=\"wandb\"><tr><td>Validation accuracy</td><td>▁▄▄█▆▅▅▄</td></tr><tr><td>Validation loss</td><td>▃▂▂▁▂▃▅█</td></tr><tr><td>epoch</td><td>▁▂▃▄▅▆▇█</td></tr><tr><td>train accuracy</td><td>▁▂▃▄▅▆▇█</td></tr><tr><td>train loss</td><td>█▇▆▅▄▃▂▁</td></tr></table><br/></div><div class=\"wandb-col\"><h3>Run summary:</h3><br/><table class=\"wandb\"><tr><td>Validation accuracy</td><td>32.1</td></tr><tr><td>Validation loss</td><td>2.27</td></tr><tr><td>epoch</td><td>8</td></tr><tr><td>train accuracy</td><td>65.42</td></tr><tr><td>train loss</td><td>1.08916</td></tr></table><br/></div></div>"
      ],
      "text/plain": [
       "<IPython.core.display.HTML object>"
      ]
     },
     "metadata": {},
     "output_type": "display_data"
    },
    {
     "data": {
      "text/html": [
       " View run <strong style=\"color:#cdcd00\">floral-sweep-2</strong> at: <a href='https://wandb.ai/tmajestical/JV_CS23M036_TEJASVI_DL_ASSIGNMENT2/runs/mp8y7y88' target=\"_blank\">https://wandb.ai/tmajestical/JV_CS23M036_TEJASVI_DL_ASSIGNMENT2/runs/mp8y7y88</a><br/>Synced 6 W&B file(s), 0 media file(s), 0 artifact file(s) and 0 other file(s)"
      ],
      "text/plain": [
       "<IPython.core.display.HTML object>"
      ]
     },
     "metadata": {},
     "output_type": "display_data"
    },
    {
     "data": {
      "text/html": [
       "Find logs at: <code>./wandb/run-20240402_224227-mp8y7y88/logs</code>"
      ],
      "text/plain": [
       "<IPython.core.display.HTML object>"
      ]
     },
     "metadata": {},
     "output_type": "display_data"
    },
    {
     "name": "stderr",
     "output_type": "stream",
     "text": [
      "\u001b[34m\u001b[1mwandb\u001b[0m: Agent Starting Run: j3klxg0a with config:\n",
      "\u001b[34m\u001b[1mwandb\u001b[0m: \tImage_Crop_Size: 800\n",
      "\u001b[34m\u001b[1mwandb\u001b[0m: \tactivation: tanh\n",
      "\u001b[34m\u001b[1mwandb\u001b[0m: \tbatch_norm: True\n",
      "\u001b[34m\u001b[1mwandb\u001b[0m: \tconv_filter_factor: 0.5\n",
      "\u001b[34m\u001b[1mwandb\u001b[0m: \tdata_aug: 2\n",
      "\u001b[34m\u001b[1mwandb\u001b[0m: \tdropout: None\n",
      "\u001b[34m\u001b[1mwandb\u001b[0m: \tepochs: 8\n",
      "\u001b[34m\u001b[1mwandb\u001b[0m: \tfilter_size: 7\n",
      "\u001b[34m\u001b[1mwandb\u001b[0m: \thidden_size: 128\n",
      "\u001b[34m\u001b[1mwandb\u001b[0m: \tlr: 0.001\n",
      "\u001b[34m\u001b[1mwandb\u001b[0m: \tnum_conv_layers: 5\n",
      "\u001b[34m\u001b[1mwandb\u001b[0m: \tnum_filters: 4\n",
      "\u001b[34m\u001b[1mwandb\u001b[0m: \tnum_hidden_layers: 1\n",
      "\u001b[34m\u001b[1mwandb\u001b[0m: \toptimiser: nadam\n",
      "\u001b[34m\u001b[1mwandb\u001b[0m: \tweight_decay: 0.005\n"
     ]
    },
    {
     "data": {
      "text/html": [
       "wandb version 0.16.5 is available!  To upgrade, please run:\n",
       " $ pip install wandb --upgrade"
      ],
      "text/plain": [
       "<IPython.core.display.HTML object>"
      ]
     },
     "metadata": {},
     "output_type": "display_data"
    },
    {
     "data": {
      "text/html": [
       "Tracking run with wandb version 0.16.4"
      ],
      "text/plain": [
       "<IPython.core.display.HTML object>"
      ]
     },
     "metadata": {},
     "output_type": "display_data"
    },
    {
     "data": {
      "text/html": [
       "Run data is saved locally in <code>/Users/tejasmalladi/Documents/OM NAMO VENKATESAYA/Jai Vigneshwara IIT MADRAS/JV SEM2/JV Deep Learning/JV Assignments/JV-Deep-Learning-Assignment2/wandb/run-20240402_230859-j3klxg0a</code>"
      ],
      "text/plain": [
       "<IPython.core.display.HTML object>"
      ]
     },
     "metadata": {},
     "output_type": "display_data"
    },
    {
     "data": {
      "text/html": [
       "Syncing run <strong><a href='https://wandb.ai/tmajestical/JV_CS23M036_TEJASVI_DL_ASSIGNMENT2/runs/j3klxg0a' target=\"_blank\">winter-sweep-3</a></strong> to <a href='https://wandb.ai/tmajestical/JV_CS23M036_TEJASVI_DL_ASSIGNMENT2' target=\"_blank\">Weights & Biases</a> (<a href='https://wandb.me/run' target=\"_blank\">docs</a>)<br/>Sweep page: <a href='https://wandb.ai/tmajestical/JV_CS23M036_TEJASVI_DL_ASSIGNMENT2/sweeps/shrmtcif' target=\"_blank\">https://wandb.ai/tmajestical/JV_CS23M036_TEJASVI_DL_ASSIGNMENT2/sweeps/shrmtcif</a>"
      ],
      "text/plain": [
       "<IPython.core.display.HTML object>"
      ]
     },
     "metadata": {},
     "output_type": "display_data"
    },
    {
     "data": {
      "text/html": [
       " View project at <a href='https://wandb.ai/tmajestical/JV_CS23M036_TEJASVI_DL_ASSIGNMENT2' target=\"_blank\">https://wandb.ai/tmajestical/JV_CS23M036_TEJASVI_DL_ASSIGNMENT2</a>"
      ],
      "text/plain": [
       "<IPython.core.display.HTML object>"
      ]
     },
     "metadata": {},
     "output_type": "display_data"
    },
    {
     "data": {
      "text/html": [
       " View sweep at <a href='https://wandb.ai/tmajestical/JV_CS23M036_TEJASVI_DL_ASSIGNMENT2/sweeps/shrmtcif' target=\"_blank\">https://wandb.ai/tmajestical/JV_CS23M036_TEJASVI_DL_ASSIGNMENT2/sweeps/shrmtcif</a>"
      ],
      "text/plain": [
       "<IPython.core.display.HTML object>"
      ]
     },
     "metadata": {},
     "output_type": "display_data"
    },
    {
     "data": {
      "text/html": [
       " View run at <a href='https://wandb.ai/tmajestical/JV_CS23M036_TEJASVI_DL_ASSIGNMENT2/runs/j3klxg0a' target=\"_blank\">https://wandb.ai/tmajestical/JV_CS23M036_TEJASVI_DL_ASSIGNMENT2/runs/j3klxg0a</a>"
      ],
      "text/plain": [
       "<IPython.core.display.HTML object>"
      ]
     },
     "metadata": {},
     "output_type": "display_data"
    },
    {
     "name": "stdout",
     "output_type": "stream",
     "text": [
      "Using mps\n",
      "Preparing data from train/\n",
      "Preparing data from validation/\n",
      "Preparing data from test/\n"
     ]
    },
    {
     "data": {
      "application/vnd.jupyter.widget-view+json": {
       "model_id": "15e4f500febe4d5ca42bdec28f4f0989",
       "version_major": 2,
       "version_minor": 0
      },
      "text/plain": [
       "  0%|          | 0/8 [00:00<?, ?it/s]"
      ]
     },
     "metadata": {},
     "output_type": "display_data"
    },
    {
     "name": "stdout",
     "output_type": "stream",
     "text": [
      "Samples in Train Data : 23997\n",
      "Epoch : 1\t Train Accuracy : 19.81%\t Train loss: 2.22\t Validation Accuracy : 21.45%\t Validation Loss : 2.20\n",
      "Epoch : 2\t Train Accuracy : 22.08%\t Train loss: 2.14\t Validation Accuracy : 15.75%\t Validation Loss : 2.28\n",
      "Epoch : 3\t Train Accuracy : 23.61%\t Train loss: 2.11\t Validation Accuracy : 24.65%\t Validation Loss : 2.07\n",
      "Epoch : 4\t Train Accuracy : 24.87%\t Train loss: 2.08\t Validation Accuracy : 22.20%\t Validation Loss : 2.12\n",
      "Epoch : 5\t Train Accuracy : 26.92%\t Train loss: 2.03\t Validation Accuracy : 27.80%\t Validation Loss : 2.00\n",
      "Epoch : 6\t Train Accuracy : 28.50%\t Train loss: 2.00\t Validation Accuracy : 27.00%\t Validation Loss : 2.09\n",
      "Epoch : 7\t Train Accuracy : 28.96%\t Train loss: 2.00\t Validation Accuracy : 25.65%\t Validation Loss : 2.10\n",
      "Epoch : 8\t Train Accuracy : 29.46%\t Train loss: 1.98\t Validation Accuracy : 25.90%\t Validation Loss : 2.08\n",
      "Finished Training!!\n",
      "Time Taken for Training: 57.97\n"
     ]
    },
    {
     "data": {
      "application/vnd.jupyter.widget-view+json": {
       "model_id": "",
       "version_major": 2,
       "version_minor": 0
      },
      "text/plain": [
       "VBox(children=(Label(value='0.001 MB of 0.001 MB uploaded\\r'), FloatProgress(value=1.0, max=1.0)))"
      ]
     },
     "metadata": {},
     "output_type": "display_data"
    },
    {
     "data": {
      "text/html": [
       "<style>\n",
       "    table.wandb td:nth-child(1) { padding: 0 10px; text-align: left ; width: auto;} td:nth-child(2) {text-align: left ; width: 100%}\n",
       "    .wandb-row { display: flex; flex-direction: row; flex-wrap: wrap; justify-content: flex-start; width: 100% }\n",
       "    .wandb-col { display: flex; flex-direction: column; flex-basis: 100%; flex: 1; padding: 10px; }\n",
       "    </style>\n",
       "<div class=\"wandb-row\"><div class=\"wandb-col\"><h3>Run history:</h3><br/><table class=\"wandb\"><tr><td>Validation accuracy</td><td>▄▁▆▅██▇▇</td></tr><tr><td>Validation loss</td><td>▆█▃▄▁▃▃▃</td></tr><tr><td>epoch</td><td>▁▂▃▄▅▆▇█</td></tr><tr><td>train accuracy</td><td>▁▃▄▅▆▇██</td></tr><tr><td>train loss</td><td>█▆▅▄▃▂▂▁</td></tr></table><br/></div><div class=\"wandb-col\"><h3>Run summary:</h3><br/><table class=\"wandb\"><tr><td>Validation accuracy</td><td>25.9</td></tr><tr><td>Validation loss</td><td>2.08</td></tr><tr><td>epoch</td><td>8</td></tr><tr><td>train accuracy</td><td>29.46</td></tr><tr><td>train loss</td><td>1.97642</td></tr></table><br/></div></div>"
      ],
      "text/plain": [
       "<IPython.core.display.HTML object>"
      ]
     },
     "metadata": {},
     "output_type": "display_data"
    },
    {
     "data": {
      "text/html": [
       " View run <strong style=\"color:#cdcd00\">winter-sweep-3</strong> at: <a href='https://wandb.ai/tmajestical/JV_CS23M036_TEJASVI_DL_ASSIGNMENT2/runs/j3klxg0a' target=\"_blank\">https://wandb.ai/tmajestical/JV_CS23M036_TEJASVI_DL_ASSIGNMENT2/runs/j3klxg0a</a><br/>Synced 6 W&B file(s), 0 media file(s), 0 artifact file(s) and 0 other file(s)"
      ],
      "text/plain": [
       "<IPython.core.display.HTML object>"
      ]
     },
     "metadata": {},
     "output_type": "display_data"
    },
    {
     "data": {
      "text/html": [
       "Find logs at: <code>./wandb/run-20240402_230859-j3klxg0a/logs</code>"
      ],
      "text/plain": [
       "<IPython.core.display.HTML object>"
      ]
     },
     "metadata": {},
     "output_type": "display_data"
    },
    {
     "name": "stderr",
     "output_type": "stream",
     "text": [
      "\u001b[34m\u001b[1mwandb\u001b[0m: Agent Starting Run: eil1lgvt with config:\n",
      "\u001b[34m\u001b[1mwandb\u001b[0m: \tImage_Crop_Size: 600\n",
      "\u001b[34m\u001b[1mwandb\u001b[0m: \tactivation: tanh\n",
      "\u001b[34m\u001b[1mwandb\u001b[0m: \tbatch_norm: False\n",
      "\u001b[34m\u001b[1mwandb\u001b[0m: \tconv_filter_factor: 0.5\n",
      "\u001b[34m\u001b[1mwandb\u001b[0m: \tdata_aug: 1\n",
      "\u001b[34m\u001b[1mwandb\u001b[0m: \tdropout: None\n",
      "\u001b[34m\u001b[1mwandb\u001b[0m: \tepochs: 8\n",
      "\u001b[34m\u001b[1mwandb\u001b[0m: \tfilter_size: 11\n",
      "\u001b[34m\u001b[1mwandb\u001b[0m: \thidden_size: 64\n",
      "\u001b[34m\u001b[1mwandb\u001b[0m: \tlr: 0.0001\n",
      "\u001b[34m\u001b[1mwandb\u001b[0m: \tnum_conv_layers: 5\n",
      "\u001b[34m\u001b[1mwandb\u001b[0m: \tnum_filters: 8\n",
      "\u001b[34m\u001b[1mwandb\u001b[0m: \tnum_hidden_layers: 1\n",
      "\u001b[34m\u001b[1mwandb\u001b[0m: \toptimiser: rmsprop\n",
      "\u001b[34m\u001b[1mwandb\u001b[0m: \tweight_decay: 0.0005\n"
     ]
    },
    {
     "data": {
      "text/html": [
       "wandb version 0.16.5 is available!  To upgrade, please run:\n",
       " $ pip install wandb --upgrade"
      ],
      "text/plain": [
       "<IPython.core.display.HTML object>"
      ]
     },
     "metadata": {},
     "output_type": "display_data"
    },
    {
     "data": {
      "text/html": [
       "Tracking run with wandb version 0.16.4"
      ],
      "text/plain": [
       "<IPython.core.display.HTML object>"
      ]
     },
     "metadata": {},
     "output_type": "display_data"
    },
    {
     "data": {
      "text/html": [
       "Run data is saved locally in <code>/Users/tejasmalladi/Documents/OM NAMO VENKATESAYA/Jai Vigneshwara IIT MADRAS/JV SEM2/JV Deep Learning/JV Assignments/JV-Deep-Learning-Assignment2/wandb/run-20240403_000732-eil1lgvt</code>"
      ],
      "text/plain": [
       "<IPython.core.display.HTML object>"
      ]
     },
     "metadata": {},
     "output_type": "display_data"
    },
    {
     "data": {
      "text/html": [
       "Syncing run <strong><a href='https://wandb.ai/tmajestical/JV_CS23M036_TEJASVI_DL_ASSIGNMENT2/runs/eil1lgvt' target=\"_blank\">different-sweep-4</a></strong> to <a href='https://wandb.ai/tmajestical/JV_CS23M036_TEJASVI_DL_ASSIGNMENT2' target=\"_blank\">Weights & Biases</a> (<a href='https://wandb.me/run' target=\"_blank\">docs</a>)<br/>Sweep page: <a href='https://wandb.ai/tmajestical/JV_CS23M036_TEJASVI_DL_ASSIGNMENT2/sweeps/shrmtcif' target=\"_blank\">https://wandb.ai/tmajestical/JV_CS23M036_TEJASVI_DL_ASSIGNMENT2/sweeps/shrmtcif</a>"
      ],
      "text/plain": [
       "<IPython.core.display.HTML object>"
      ]
     },
     "metadata": {},
     "output_type": "display_data"
    },
    {
     "data": {
      "text/html": [
       " View project at <a href='https://wandb.ai/tmajestical/JV_CS23M036_TEJASVI_DL_ASSIGNMENT2' target=\"_blank\">https://wandb.ai/tmajestical/JV_CS23M036_TEJASVI_DL_ASSIGNMENT2</a>"
      ],
      "text/plain": [
       "<IPython.core.display.HTML object>"
      ]
     },
     "metadata": {},
     "output_type": "display_data"
    },
    {
     "data": {
      "text/html": [
       " View sweep at <a href='https://wandb.ai/tmajestical/JV_CS23M036_TEJASVI_DL_ASSIGNMENT2/sweeps/shrmtcif' target=\"_blank\">https://wandb.ai/tmajestical/JV_CS23M036_TEJASVI_DL_ASSIGNMENT2/sweeps/shrmtcif</a>"
      ],
      "text/plain": [
       "<IPython.core.display.HTML object>"
      ]
     },
     "metadata": {},
     "output_type": "display_data"
    },
    {
     "data": {
      "text/html": [
       " View run at <a href='https://wandb.ai/tmajestical/JV_CS23M036_TEJASVI_DL_ASSIGNMENT2/runs/eil1lgvt' target=\"_blank\">https://wandb.ai/tmajestical/JV_CS23M036_TEJASVI_DL_ASSIGNMENT2/runs/eil1lgvt</a>"
      ],
      "text/plain": [
       "<IPython.core.display.HTML object>"
      ]
     },
     "metadata": {},
     "output_type": "display_data"
    },
    {
     "name": "stdout",
     "output_type": "stream",
     "text": [
      "Using mps\n",
      "Preparing data from train/\n",
      "Preparing data from validation/\n",
      "Preparing data from test/\n"
     ]
    },
    {
     "data": {
      "application/vnd.jupyter.widget-view+json": {
       "model_id": "902b54decfb4462b88bcc6f74152610a",
       "version_major": 2,
       "version_minor": 0
      },
      "text/plain": [
       "  0%|          | 0/8 [00:00<?, ?it/s]"
      ]
     },
     "metadata": {},
     "output_type": "display_data"
    },
    {
     "name": "stdout",
     "output_type": "stream",
     "text": [
      "Samples in Train Data : 15998\n",
      "Epoch : 1\t Train Accuracy : 10.14%\t Train loss: 2.55\t Validation Accuracy : 9.90%\t Validation Loss : 2.43\n",
      "Epoch : 2\t Train Accuracy : 18.71%\t Train loss: 2.20\t Validation Accuracy : 28.50%\t Validation Loss : 2.02\n",
      "Epoch : 3\t Train Accuracy : 30.42%\t Train loss: 1.98\t Validation Accuracy : 28.75%\t Validation Loss : 1.99\n",
      "Epoch : 4\t Train Accuracy : 34.85%\t Train loss: 1.86\t Validation Accuracy : 31.85%\t Validation Loss : 1.90\n",
      "Epoch : 5\t Train Accuracy : 38.65%\t Train loss: 1.76\t Validation Accuracy : 31.55%\t Validation Loss : 1.94\n",
      "Epoch : 6\t Train Accuracy : 42.96%\t Train loss: 1.66\t Validation Accuracy : 35.35%\t Validation Loss : 1.87\n",
      "Epoch : 7\t Train Accuracy : 47.27%\t Train loss: 1.54\t Validation Accuracy : 34.35%\t Validation Loss : 1.90\n",
      "Epoch : 8\t Train Accuracy : 52.29%\t Train loss: 1.43\t Validation Accuracy : 35.20%\t Validation Loss : 1.92\n",
      "Finished Training!!\n",
      "Time Taken for Training: 24.32\n"
     ]
    },
    {
     "data": {
      "application/vnd.jupyter.widget-view+json": {
       "model_id": "5290e56e7df24096a6114f4a5f199fca",
       "version_major": 2,
       "version_minor": 0
      },
      "text/plain": [
       "VBox(children=(Label(value='0.001 MB of 0.001 MB uploaded\\r'), FloatProgress(value=1.0, max=1.0)))"
      ]
     },
     "metadata": {},
     "output_type": "display_data"
    },
    {
     "data": {
      "text/html": [
       "<style>\n",
       "    table.wandb td:nth-child(1) { padding: 0 10px; text-align: left ; width: auto;} td:nth-child(2) {text-align: left ; width: 100%}\n",
       "    .wandb-row { display: flex; flex-direction: row; flex-wrap: wrap; justify-content: flex-start; width: 100% }\n",
       "    .wandb-col { display: flex; flex-direction: column; flex-basis: 100%; flex: 1; padding: 10px; }\n",
       "    </style>\n",
       "<div class=\"wandb-row\"><div class=\"wandb-col\"><h3>Run history:</h3><br/><table class=\"wandb\"><tr><td>Validation accuracy</td><td>▁▆▆▇▇███</td></tr><tr><td>Validation loss</td><td>█▃▂▁▂▁▁▂</td></tr><tr><td>epoch</td><td>▁▂▃▄▅▆▇█</td></tr><tr><td>train accuracy</td><td>▁▂▄▅▆▆▇█</td></tr><tr><td>train loss</td><td>█▆▄▄▃▂▂▁</td></tr></table><br/></div><div class=\"wandb-col\"><h3>Run summary:</h3><br/><table class=\"wandb\"><tr><td>Validation accuracy</td><td>35.2</td></tr><tr><td>Validation loss</td><td>1.92</td></tr><tr><td>epoch</td><td>8</td></tr><tr><td>train accuracy</td><td>52.29</td></tr><tr><td>train loss</td><td>1.42842</td></tr></table><br/></div></div>"
      ],
      "text/plain": [
       "<IPython.core.display.HTML object>"
      ]
     },
     "metadata": {},
     "output_type": "display_data"
    },
    {
     "data": {
      "text/html": [
       " View run <strong style=\"color:#cdcd00\">different-sweep-4</strong> at: <a href='https://wandb.ai/tmajestical/JV_CS23M036_TEJASVI_DL_ASSIGNMENT2/runs/eil1lgvt' target=\"_blank\">https://wandb.ai/tmajestical/JV_CS23M036_TEJASVI_DL_ASSIGNMENT2/runs/eil1lgvt</a><br/>Synced 6 W&B file(s), 0 media file(s), 0 artifact file(s) and 0 other file(s)"
      ],
      "text/plain": [
       "<IPython.core.display.HTML object>"
      ]
     },
     "metadata": {},
     "output_type": "display_data"
    },
    {
     "data": {
      "text/html": [
       "Find logs at: <code>./wandb/run-20240403_000732-eil1lgvt/logs</code>"
      ],
      "text/plain": [
       "<IPython.core.display.HTML object>"
      ]
     },
     "metadata": {},
     "output_type": "display_data"
    },
    {
     "name": "stderr",
     "output_type": "stream",
     "text": [
      "\u001b[34m\u001b[1mwandb\u001b[0m: Agent Starting Run: v9ochj08 with config:\n",
      "\u001b[34m\u001b[1mwandb\u001b[0m: \tImage_Crop_Size: 800\n",
      "\u001b[34m\u001b[1mwandb\u001b[0m: \tactivation: silu\n",
      "\u001b[34m\u001b[1mwandb\u001b[0m: \tbatch_norm: True\n",
      "\u001b[34m\u001b[1mwandb\u001b[0m: \tconv_filter_factor: 2\n",
      "\u001b[34m\u001b[1mwandb\u001b[0m: \tdata_aug: 1\n",
      "\u001b[34m\u001b[1mwandb\u001b[0m: \tdropout: None\n",
      "\u001b[34m\u001b[1mwandb\u001b[0m: \tepochs: 8\n",
      "\u001b[34m\u001b[1mwandb\u001b[0m: \tfilter_size: 5\n",
      "\u001b[34m\u001b[1mwandb\u001b[0m: \thidden_size: 32\n",
      "\u001b[34m\u001b[1mwandb\u001b[0m: \tlr: 0.0001\n",
      "\u001b[34m\u001b[1mwandb\u001b[0m: \tnum_conv_layers: 5\n",
      "\u001b[34m\u001b[1mwandb\u001b[0m: \tnum_filters: 8\n",
      "\u001b[34m\u001b[1mwandb\u001b[0m: \tnum_hidden_layers: 1\n",
      "\u001b[34m\u001b[1mwandb\u001b[0m: \toptimiser: nadam\n",
      "\u001b[34m\u001b[1mwandb\u001b[0m: \tweight_decay: 0.005\n"
     ]
    },
    {
     "data": {
      "text/html": [
       "wandb version 0.16.5 is available!  To upgrade, please run:\n",
       " $ pip install wandb --upgrade"
      ],
      "text/plain": [
       "<IPython.core.display.HTML object>"
      ]
     },
     "metadata": {},
     "output_type": "display_data"
    },
    {
     "data": {
      "text/html": [
       "Tracking run with wandb version 0.16.4"
      ],
      "text/plain": [
       "<IPython.core.display.HTML object>"
      ]
     },
     "metadata": {},
     "output_type": "display_data"
    },
    {
     "data": {
      "text/html": [
       "Run data is saved locally in <code>/Users/tejasmalladi/Documents/OM NAMO VENKATESAYA/Jai Vigneshwara IIT MADRAS/JV SEM2/JV Deep Learning/JV Assignments/JV-Deep-Learning-Assignment2/wandb/run-20240403_003222-v9ochj08</code>"
      ],
      "text/plain": [
       "<IPython.core.display.HTML object>"
      ]
     },
     "metadata": {},
     "output_type": "display_data"
    },
    {
     "data": {
      "text/html": [
       "Syncing run <strong><a href='https://wandb.ai/tmajestical/JV_CS23M036_TEJASVI_DL_ASSIGNMENT2/runs/v9ochj08' target=\"_blank\">fresh-sweep-5</a></strong> to <a href='https://wandb.ai/tmajestical/JV_CS23M036_TEJASVI_DL_ASSIGNMENT2' target=\"_blank\">Weights & Biases</a> (<a href='https://wandb.me/run' target=\"_blank\">docs</a>)<br/>Sweep page: <a href='https://wandb.ai/tmajestical/JV_CS23M036_TEJASVI_DL_ASSIGNMENT2/sweeps/shrmtcif' target=\"_blank\">https://wandb.ai/tmajestical/JV_CS23M036_TEJASVI_DL_ASSIGNMENT2/sweeps/shrmtcif</a>"
      ],
      "text/plain": [
       "<IPython.core.display.HTML object>"
      ]
     },
     "metadata": {},
     "output_type": "display_data"
    },
    {
     "data": {
      "text/html": [
       " View project at <a href='https://wandb.ai/tmajestical/JV_CS23M036_TEJASVI_DL_ASSIGNMENT2' target=\"_blank\">https://wandb.ai/tmajestical/JV_CS23M036_TEJASVI_DL_ASSIGNMENT2</a>"
      ],
      "text/plain": [
       "<IPython.core.display.HTML object>"
      ]
     },
     "metadata": {},
     "output_type": "display_data"
    },
    {
     "data": {
      "text/html": [
       " View sweep at <a href='https://wandb.ai/tmajestical/JV_CS23M036_TEJASVI_DL_ASSIGNMENT2/sweeps/shrmtcif' target=\"_blank\">https://wandb.ai/tmajestical/JV_CS23M036_TEJASVI_DL_ASSIGNMENT2/sweeps/shrmtcif</a>"
      ],
      "text/plain": [
       "<IPython.core.display.HTML object>"
      ]
     },
     "metadata": {},
     "output_type": "display_data"
    },
    {
     "data": {
      "text/html": [
       " View run at <a href='https://wandb.ai/tmajestical/JV_CS23M036_TEJASVI_DL_ASSIGNMENT2/runs/v9ochj08' target=\"_blank\">https://wandb.ai/tmajestical/JV_CS23M036_TEJASVI_DL_ASSIGNMENT2/runs/v9ochj08</a>"
      ],
      "text/plain": [
       "<IPython.core.display.HTML object>"
      ]
     },
     "metadata": {},
     "output_type": "display_data"
    },
    {
     "name": "stdout",
     "output_type": "stream",
     "text": [
      "Using mps\n",
      "Preparing data from train/\n",
      "Preparing data from validation/\n",
      "Preparing data from test/\n"
     ]
    },
    {
     "data": {
      "application/vnd.jupyter.widget-view+json": {
       "model_id": "3194974a3b0d48e199b98b0aa2a9adc6",
       "version_major": 2,
       "version_minor": 0
      },
      "text/plain": [
       "  0%|          | 0/8 [00:00<?, ?it/s]"
      ]
     },
     "metadata": {},
     "output_type": "display_data"
    },
    {
     "name": "stdout",
     "output_type": "stream",
     "text": [
      "Samples in Train Data : 15998\n",
      "Epoch : 1\t Train Accuracy : 26.59%\t Train loss: 2.09\t Validation Accuracy : 31.15%\t Validation Loss : 1.99\n",
      "Epoch : 2\t Train Accuracy : 32.72%\t Train loss: 1.93\t Validation Accuracy : 31.70%\t Validation Loss : 1.97\n",
      "Epoch : 3\t Train Accuracy : 35.64%\t Train loss: 1.86\t Validation Accuracy : 34.05%\t Validation Loss : 1.90\n",
      "Epoch : 4\t Train Accuracy : 38.44%\t Train loss: 1.79\t Validation Accuracy : 33.85%\t Validation Loss : 1.86\n",
      "Epoch : 5\t Train Accuracy : 41.42%\t Train loss: 1.72\t Validation Accuracy : 33.25%\t Validation Loss : 1.90\n",
      "Epoch : 6\t Train Accuracy : 43.88%\t Train loss: 1.66\t Validation Accuracy : 34.25%\t Validation Loss : 1.87\n",
      "Epoch : 7\t Train Accuracy : 48.22%\t Train loss: 1.56\t Validation Accuracy : 33.70%\t Validation Loss : 1.91\n",
      "Epoch : 8\t Train Accuracy : 51.58%\t Train loss: 1.48\t Validation Accuracy : 33.35%\t Validation Loss : 1.92\n",
      "Finished Training!!\n",
      "Time Taken for Training: 40.61\n"
     ]
    },
    {
     "data": {
      "application/vnd.jupyter.widget-view+json": {
       "model_id": "38e658edbaa64244839e98a591c94930",
       "version_major": 2,
       "version_minor": 0
      },
      "text/plain": [
       "VBox(children=(Label(value='0.001 MB of 0.014 MB uploaded\\r'), FloatProgress(value=0.07406918405069976, max=1.…"
      ]
     },
     "metadata": {},
     "output_type": "display_data"
    },
    {
     "data": {
      "text/html": [
       "<style>\n",
       "    table.wandb td:nth-child(1) { padding: 0 10px; text-align: left ; width: auto;} td:nth-child(2) {text-align: left ; width: 100%}\n",
       "    .wandb-row { display: flex; flex-direction: row; flex-wrap: wrap; justify-content: flex-start; width: 100% }\n",
       "    .wandb-col { display: flex; flex-direction: column; flex-basis: 100%; flex: 1; padding: 10px; }\n",
       "    </style>\n",
       "<div class=\"wandb-row\"><div class=\"wandb-col\"><h3>Run history:</h3><br/><table class=\"wandb\"><tr><td>Validation accuracy</td><td>▁▂█▇▆█▇▆</td></tr><tr><td>Validation loss</td><td>█▇▃▁▃▂▄▄</td></tr><tr><td>epoch</td><td>▁▂▃▄▅▆▇█</td></tr><tr><td>train accuracy</td><td>▁▃▄▄▅▆▇█</td></tr><tr><td>train loss</td><td>█▆▅▅▄▃▂▁</td></tr></table><br/></div><div class=\"wandb-col\"><h3>Run summary:</h3><br/><table class=\"wandb\"><tr><td>Validation accuracy</td><td>33.35</td></tr><tr><td>Validation loss</td><td>1.92</td></tr><tr><td>epoch</td><td>8</td></tr><tr><td>train accuracy</td><td>51.58</td></tr><tr><td>train loss</td><td>1.47838</td></tr></table><br/></div></div>"
      ],
      "text/plain": [
       "<IPython.core.display.HTML object>"
      ]
     },
     "metadata": {},
     "output_type": "display_data"
    },
    {
     "data": {
      "text/html": [
       " View run <strong style=\"color:#cdcd00\">fresh-sweep-5</strong> at: <a href='https://wandb.ai/tmajestical/JV_CS23M036_TEJASVI_DL_ASSIGNMENT2/runs/v9ochj08' target=\"_blank\">https://wandb.ai/tmajestical/JV_CS23M036_TEJASVI_DL_ASSIGNMENT2/runs/v9ochj08</a><br/>Synced 6 W&B file(s), 0 media file(s), 0 artifact file(s) and 0 other file(s)"
      ],
      "text/plain": [
       "<IPython.core.display.HTML object>"
      ]
     },
     "metadata": {},
     "output_type": "display_data"
    },
    {
     "data": {
      "text/html": [
       "Find logs at: <code>./wandb/run-20240403_003222-v9ochj08/logs</code>"
      ],
      "text/plain": [
       "<IPython.core.display.HTML object>"
      ]
     },
     "metadata": {},
     "output_type": "display_data"
    },
    {
     "name": "stderr",
     "output_type": "stream",
     "text": [
      "\u001b[34m\u001b[1mwandb\u001b[0m: Agent Starting Run: bdfr21pv with config:\n",
      "\u001b[34m\u001b[1mwandb\u001b[0m: \tImage_Crop_Size: 800\n",
      "\u001b[34m\u001b[1mwandb\u001b[0m: \tactivation: tanh\n",
      "\u001b[34m\u001b[1mwandb\u001b[0m: \tbatch_norm: True\n",
      "\u001b[34m\u001b[1mwandb\u001b[0m: \tconv_filter_factor: 1\n",
      "\u001b[34m\u001b[1mwandb\u001b[0m: \tdata_aug: None\n",
      "\u001b[34m\u001b[1mwandb\u001b[0m: \tdropout: 0.2\n",
      "\u001b[34m\u001b[1mwandb\u001b[0m: \tepochs: 8\n",
      "\u001b[34m\u001b[1mwandb\u001b[0m: \tfilter_size: 11\n",
      "\u001b[34m\u001b[1mwandb\u001b[0m: \thidden_size: 32\n",
      "\u001b[34m\u001b[1mwandb\u001b[0m: \tlr: 0.001\n",
      "\u001b[34m\u001b[1mwandb\u001b[0m: \tnum_conv_layers: 5\n",
      "\u001b[34m\u001b[1mwandb\u001b[0m: \tnum_filters: 4\n",
      "\u001b[34m\u001b[1mwandb\u001b[0m: \tnum_hidden_layers: 1\n",
      "\u001b[34m\u001b[1mwandb\u001b[0m: \toptimiser: nadam\n",
      "\u001b[34m\u001b[1mwandb\u001b[0m: \tweight_decay: 0.0005\n"
     ]
    },
    {
     "data": {
      "text/html": [
       "wandb version 0.16.5 is available!  To upgrade, please run:\n",
       " $ pip install wandb --upgrade"
      ],
      "text/plain": [
       "<IPython.core.display.HTML object>"
      ]
     },
     "metadata": {},
     "output_type": "display_data"
    },
    {
     "data": {
      "text/html": [
       "Tracking run with wandb version 0.16.4"
      ],
      "text/plain": [
       "<IPython.core.display.HTML object>"
      ]
     },
     "metadata": {},
     "output_type": "display_data"
    },
    {
     "data": {
      "text/html": [
       "Run data is saved locally in <code>/Users/tejasmalladi/Documents/OM NAMO VENKATESAYA/Jai Vigneshwara IIT MADRAS/JV SEM2/JV Deep Learning/JV Assignments/JV-Deep-Learning-Assignment2/wandb/run-20240403_011330-bdfr21pv</code>"
      ],
      "text/plain": [
       "<IPython.core.display.HTML object>"
      ]
     },
     "metadata": {},
     "output_type": "display_data"
    },
    {
     "data": {
      "text/html": [
       "Syncing run <strong><a href='https://wandb.ai/tmajestical/JV_CS23M036_TEJASVI_DL_ASSIGNMENT2/runs/bdfr21pv' target=\"_blank\">eager-sweep-6</a></strong> to <a href='https://wandb.ai/tmajestical/JV_CS23M036_TEJASVI_DL_ASSIGNMENT2' target=\"_blank\">Weights & Biases</a> (<a href='https://wandb.me/run' target=\"_blank\">docs</a>)<br/>Sweep page: <a href='https://wandb.ai/tmajestical/JV_CS23M036_TEJASVI_DL_ASSIGNMENT2/sweeps/shrmtcif' target=\"_blank\">https://wandb.ai/tmajestical/JV_CS23M036_TEJASVI_DL_ASSIGNMENT2/sweeps/shrmtcif</a>"
      ],
      "text/plain": [
       "<IPython.core.display.HTML object>"
      ]
     },
     "metadata": {},
     "output_type": "display_data"
    },
    {
     "data": {
      "text/html": [
       " View project at <a href='https://wandb.ai/tmajestical/JV_CS23M036_TEJASVI_DL_ASSIGNMENT2' target=\"_blank\">https://wandb.ai/tmajestical/JV_CS23M036_TEJASVI_DL_ASSIGNMENT2</a>"
      ],
      "text/plain": [
       "<IPython.core.display.HTML object>"
      ]
     },
     "metadata": {},
     "output_type": "display_data"
    },
    {
     "data": {
      "text/html": [
       " View sweep at <a href='https://wandb.ai/tmajestical/JV_CS23M036_TEJASVI_DL_ASSIGNMENT2/sweeps/shrmtcif' target=\"_blank\">https://wandb.ai/tmajestical/JV_CS23M036_TEJASVI_DL_ASSIGNMENT2/sweeps/shrmtcif</a>"
      ],
      "text/plain": [
       "<IPython.core.display.HTML object>"
      ]
     },
     "metadata": {},
     "output_type": "display_data"
    },
    {
     "data": {
      "text/html": [
       " View run at <a href='https://wandb.ai/tmajestical/JV_CS23M036_TEJASVI_DL_ASSIGNMENT2/runs/bdfr21pv' target=\"_blank\">https://wandb.ai/tmajestical/JV_CS23M036_TEJASVI_DL_ASSIGNMENT2/runs/bdfr21pv</a>"
      ],
      "text/plain": [
       "<IPython.core.display.HTML object>"
      ]
     },
     "metadata": {},
     "output_type": "display_data"
    },
    {
     "name": "stdout",
     "output_type": "stream",
     "text": [
      "Using mps\n",
      "Preparing data from train/\n",
      "Preparing data from validation/\n",
      "Preparing data from test/\n"
     ]
    },
    {
     "data": {
      "application/vnd.jupyter.widget-view+json": {
       "model_id": "f44ec7503fce4cf3aef05a955638c604",
       "version_major": 2,
       "version_minor": 0
      },
      "text/plain": [
       "  0%|          | 0/8 [00:00<?, ?it/s]"
      ]
     },
     "metadata": {},
     "output_type": "display_data"
    },
    {
     "name": "stdout",
     "output_type": "stream",
     "text": [
      "Samples in Train Data : 7999\n",
      "Epoch : 1\t Train Accuracy : 21.87%\t Train loss: 2.19\t Validation Accuracy : 29.35%\t Validation Loss : 1.99\n",
      "Epoch : 2\t Train Accuracy : 28.53%\t Train loss: 2.03\t Validation Accuracy : 24.10%\t Validation Loss : 2.11\n",
      "Epoch : 3\t Train Accuracy : 31.38%\t Train loss: 1.96\t Validation Accuracy : 28.75%\t Validation Loss : 2.00\n",
      "Epoch : 4\t Train Accuracy : 33.50%\t Train loss: 1.90\t Validation Accuracy : 25.70%\t Validation Loss : 2.09\n",
      "Epoch : 5\t Train Accuracy : 36.47%\t Train loss: 1.83\t Validation Accuracy : 30.55%\t Validation Loss : 1.98\n",
      "Epoch : 6\t Train Accuracy : 40.19%\t Train loss: 1.74\t Validation Accuracy : 33.55%\t Validation Loss : 1.91\n",
      "Epoch : 7\t Train Accuracy : 45.11%\t Train loss: 1.62\t Validation Accuracy : 31.50%\t Validation Loss : 1.98\n",
      "Epoch : 8\t Train Accuracy : 53.57%\t Train loss: 1.40\t Validation Accuracy : 30.45%\t Validation Loss : 2.06\n",
      "Finished Training!!\n",
      "Time Taken for Training: 24.36\n"
     ]
    },
    {
     "data": {
      "application/vnd.jupyter.widget-view+json": {
       "model_id": "8292bbdda7db4569bbcbd441dacc988b",
       "version_major": 2,
       "version_minor": 0
      },
      "text/plain": [
       "VBox(children=(Label(value='0.001 MB of 0.001 MB uploaded\\r'), FloatProgress(value=1.0, max=1.0)))"
      ]
     },
     "metadata": {},
     "output_type": "display_data"
    },
    {
     "data": {
      "text/html": [
       "<style>\n",
       "    table.wandb td:nth-child(1) { padding: 0 10px; text-align: left ; width: auto;} td:nth-child(2) {text-align: left ; width: 100%}\n",
       "    .wandb-row { display: flex; flex-direction: row; flex-wrap: wrap; justify-content: flex-start; width: 100% }\n",
       "    .wandb-col { display: flex; flex-direction: column; flex-basis: 100%; flex: 1; padding: 10px; }\n",
       "    </style>\n",
       "<div class=\"wandb-row\"><div class=\"wandb-col\"><h3>Run history:</h3><br/><table class=\"wandb\"><tr><td>Validation accuracy</td><td>▅▁▄▂▆█▆▆</td></tr><tr><td>Validation loss</td><td>▄█▄▇▃▁▃▆</td></tr><tr><td>epoch</td><td>▁▂▃▄▅▆▇█</td></tr><tr><td>train accuracy</td><td>▁▂▃▄▄▅▆█</td></tr><tr><td>train loss</td><td>█▇▆▅▅▄▃▁</td></tr></table><br/></div><div class=\"wandb-col\"><h3>Run summary:</h3><br/><table class=\"wandb\"><tr><td>Validation accuracy</td><td>30.45</td></tr><tr><td>Validation loss</td><td>2.06</td></tr><tr><td>epoch</td><td>8</td></tr><tr><td>train accuracy</td><td>53.57</td></tr><tr><td>train loss</td><td>1.4005</td></tr></table><br/></div></div>"
      ],
      "text/plain": [
       "<IPython.core.display.HTML object>"
      ]
     },
     "metadata": {},
     "output_type": "display_data"
    },
    {
     "data": {
      "text/html": [
       " View run <strong style=\"color:#cdcd00\">eager-sweep-6</strong> at: <a href='https://wandb.ai/tmajestical/JV_CS23M036_TEJASVI_DL_ASSIGNMENT2/runs/bdfr21pv' target=\"_blank\">https://wandb.ai/tmajestical/JV_CS23M036_TEJASVI_DL_ASSIGNMENT2/runs/bdfr21pv</a><br/>Synced 6 W&B file(s), 0 media file(s), 0 artifact file(s) and 0 other file(s)"
      ],
      "text/plain": [
       "<IPython.core.display.HTML object>"
      ]
     },
     "metadata": {},
     "output_type": "display_data"
    },
    {
     "data": {
      "text/html": [
       "Find logs at: <code>./wandb/run-20240403_011330-bdfr21pv/logs</code>"
      ],
      "text/plain": [
       "<IPython.core.display.HTML object>"
      ]
     },
     "metadata": {},
     "output_type": "display_data"
    },
    {
     "name": "stderr",
     "output_type": "stream",
     "text": [
      "\u001b[34m\u001b[1mwandb\u001b[0m: Agent Starting Run: 6bmyn0pq with config:\n",
      "\u001b[34m\u001b[1mwandb\u001b[0m: \tImage_Crop_Size: 800\n",
      "\u001b[34m\u001b[1mwandb\u001b[0m: \tactivation: tanh\n",
      "\u001b[34m\u001b[1mwandb\u001b[0m: \tbatch_norm: False\n",
      "\u001b[34m\u001b[1mwandb\u001b[0m: \tconv_filter_factor: 2\n",
      "\u001b[34m\u001b[1mwandb\u001b[0m: \tdata_aug: 2\n",
      "\u001b[34m\u001b[1mwandb\u001b[0m: \tdropout: None\n",
      "\u001b[34m\u001b[1mwandb\u001b[0m: \tepochs: 8\n",
      "\u001b[34m\u001b[1mwandb\u001b[0m: \tfilter_size: 5\n",
      "\u001b[34m\u001b[1mwandb\u001b[0m: \thidden_size: 128\n",
      "\u001b[34m\u001b[1mwandb\u001b[0m: \tlr: 0.0001\n",
      "\u001b[34m\u001b[1mwandb\u001b[0m: \tnum_conv_layers: 5\n",
      "\u001b[34m\u001b[1mwandb\u001b[0m: \tnum_filters: 4\n",
      "\u001b[34m\u001b[1mwandb\u001b[0m: \tnum_hidden_layers: 1\n",
      "\u001b[34m\u001b[1mwandb\u001b[0m: \toptimiser: adam\n",
      "\u001b[34m\u001b[1mwandb\u001b[0m: \tweight_decay: 0\n"
     ]
    },
    {
     "data": {
      "text/html": [
       "wandb version 0.16.5 is available!  To upgrade, please run:\n",
       " $ pip install wandb --upgrade"
      ],
      "text/plain": [
       "<IPython.core.display.HTML object>"
      ]
     },
     "metadata": {},
     "output_type": "display_data"
    },
    {
     "data": {
      "text/html": [
       "Tracking run with wandb version 0.16.4"
      ],
      "text/plain": [
       "<IPython.core.display.HTML object>"
      ]
     },
     "metadata": {},
     "output_type": "display_data"
    },
    {
     "data": {
      "text/html": [
       "Run data is saved locally in <code>/Users/tejasmalladi/Documents/OM NAMO VENKATESAYA/Jai Vigneshwara IIT MADRAS/JV SEM2/JV Deep Learning/JV Assignments/JV-Deep-Learning-Assignment2/wandb/run-20240403_013828-6bmyn0pq</code>"
      ],
      "text/plain": [
       "<IPython.core.display.HTML object>"
      ]
     },
     "metadata": {},
     "output_type": "display_data"
    },
    {
     "data": {
      "text/html": [
       "Syncing run <strong><a href='https://wandb.ai/tmajestical/JV_CS23M036_TEJASVI_DL_ASSIGNMENT2/runs/6bmyn0pq' target=\"_blank\">charmed-sweep-7</a></strong> to <a href='https://wandb.ai/tmajestical/JV_CS23M036_TEJASVI_DL_ASSIGNMENT2' target=\"_blank\">Weights & Biases</a> (<a href='https://wandb.me/run' target=\"_blank\">docs</a>)<br/>Sweep page: <a href='https://wandb.ai/tmajestical/JV_CS23M036_TEJASVI_DL_ASSIGNMENT2/sweeps/shrmtcif' target=\"_blank\">https://wandb.ai/tmajestical/JV_CS23M036_TEJASVI_DL_ASSIGNMENT2/sweeps/shrmtcif</a>"
      ],
      "text/plain": [
       "<IPython.core.display.HTML object>"
      ]
     },
     "metadata": {},
     "output_type": "display_data"
    },
    {
     "data": {
      "text/html": [
       " View project at <a href='https://wandb.ai/tmajestical/JV_CS23M036_TEJASVI_DL_ASSIGNMENT2' target=\"_blank\">https://wandb.ai/tmajestical/JV_CS23M036_TEJASVI_DL_ASSIGNMENT2</a>"
      ],
      "text/plain": [
       "<IPython.core.display.HTML object>"
      ]
     },
     "metadata": {},
     "output_type": "display_data"
    },
    {
     "data": {
      "text/html": [
       " View sweep at <a href='https://wandb.ai/tmajestical/JV_CS23M036_TEJASVI_DL_ASSIGNMENT2/sweeps/shrmtcif' target=\"_blank\">https://wandb.ai/tmajestical/JV_CS23M036_TEJASVI_DL_ASSIGNMENT2/sweeps/shrmtcif</a>"
      ],
      "text/plain": [
       "<IPython.core.display.HTML object>"
      ]
     },
     "metadata": {},
     "output_type": "display_data"
    },
    {
     "data": {
      "text/html": [
       " View run at <a href='https://wandb.ai/tmajestical/JV_CS23M036_TEJASVI_DL_ASSIGNMENT2/runs/6bmyn0pq' target=\"_blank\">https://wandb.ai/tmajestical/JV_CS23M036_TEJASVI_DL_ASSIGNMENT2/runs/6bmyn0pq</a>"
      ],
      "text/plain": [
       "<IPython.core.display.HTML object>"
      ]
     },
     "metadata": {},
     "output_type": "display_data"
    },
    {
     "name": "stdout",
     "output_type": "stream",
     "text": [
      "Using mps\n",
      "Preparing data from train/\n",
      "Preparing data from validation/\n",
      "Preparing data from test/\n"
     ]
    },
    {
     "data": {
      "application/vnd.jupyter.widget-view+json": {
       "model_id": "6cb162b67d41490db00958c6e03f5cf8",
       "version_major": 2,
       "version_minor": 0
      },
      "text/plain": [
       "  0%|          | 0/8 [00:00<?, ?it/s]"
      ]
     },
     "metadata": {},
     "output_type": "display_data"
    },
    {
     "name": "stdout",
     "output_type": "stream",
     "text": [
      "Samples in Train Data : 23997\n",
      "Epoch : 1\t Train Accuracy : 22.47%\t Train loss: 2.17\t Validation Accuracy : 26.30%\t Validation Loss : 2.04\n",
      "Epoch : 2\t Train Accuracy : 40.32%\t Train loss: 1.73\t Validation Accuracy : 24.80%\t Validation Loss : 2.36\n",
      "Epoch : 3\t Train Accuracy : 65.93%\t Train loss: 1.04\t Validation Accuracy : 25.20%\t Validation Loss : 2.82\n",
      "Epoch : 4\t Train Accuracy : 75.64%\t Train loss: 0.75\t Validation Accuracy : 26.15%\t Validation Loss : 3.02\n",
      "Epoch : 5\t Train Accuracy : 76.76%\t Train loss: 0.69\t Validation Accuracy : 24.95%\t Validation Loss : 2.97\n",
      "Epoch : 6\t Train Accuracy : 77.72%\t Train loss: 0.66\t Validation Accuracy : 24.95%\t Validation Loss : 2.94\n",
      "Epoch : 7\t Train Accuracy : 78.10%\t Train loss: 0.64\t Validation Accuracy : 25.10%\t Validation Loss : 2.98\n",
      "Epoch : 8\t Train Accuracy : 78.48%\t Train loss: 0.64\t Validation Accuracy : 26.70%\t Validation Loss : 2.90\n",
      "Finished Training!!\n",
      "Time Taken for Training: 53.87\n"
     ]
    },
    {
     "data": {
      "application/vnd.jupyter.widget-view+json": {
       "model_id": "ee91a04fb5f84549aa53263b22897c4d",
       "version_major": 2,
       "version_minor": 0
      },
      "text/plain": [
       "VBox(children=(Label(value='0.001 MB of 0.001 MB uploaded\\r'), FloatProgress(value=1.0, max=1.0)))"
      ]
     },
     "metadata": {},
     "output_type": "display_data"
    },
    {
     "data": {
      "text/html": [
       "<style>\n",
       "    table.wandb td:nth-child(1) { padding: 0 10px; text-align: left ; width: auto;} td:nth-child(2) {text-align: left ; width: 100%}\n",
       "    .wandb-row { display: flex; flex-direction: row; flex-wrap: wrap; justify-content: flex-start; width: 100% }\n",
       "    .wandb-col { display: flex; flex-direction: column; flex-basis: 100%; flex: 1; padding: 10px; }\n",
       "    </style>\n",
       "<div class=\"wandb-row\"><div class=\"wandb-col\"><h3>Run history:</h3><br/><table class=\"wandb\"><tr><td>Validation accuracy</td><td>▇▁▂▆▂▂▂█</td></tr><tr><td>Validation loss</td><td>▁▃▇██▇█▇</td></tr><tr><td>epoch</td><td>▁▂▃▄▅▆▇█</td></tr><tr><td>train accuracy</td><td>▁▃▆█████</td></tr><tr><td>train loss</td><td>█▆▃▂▁▁▁▁</td></tr></table><br/></div><div class=\"wandb-col\"><h3>Run summary:</h3><br/><table class=\"wandb\"><tr><td>Validation accuracy</td><td>26.7</td></tr><tr><td>Validation loss</td><td>2.9</td></tr><tr><td>epoch</td><td>8</td></tr><tr><td>train accuracy</td><td>78.48</td></tr><tr><td>train loss</td><td>0.6356</td></tr></table><br/></div></div>"
      ],
      "text/plain": [
       "<IPython.core.display.HTML object>"
      ]
     },
     "metadata": {},
     "output_type": "display_data"
    },
    {
     "data": {
      "text/html": [
       " View run <strong style=\"color:#cdcd00\">charmed-sweep-7</strong> at: <a href='https://wandb.ai/tmajestical/JV_CS23M036_TEJASVI_DL_ASSIGNMENT2/runs/6bmyn0pq' target=\"_blank\">https://wandb.ai/tmajestical/JV_CS23M036_TEJASVI_DL_ASSIGNMENT2/runs/6bmyn0pq</a><br/>Synced 6 W&B file(s), 0 media file(s), 0 artifact file(s) and 0 other file(s)"
      ],
      "text/plain": [
       "<IPython.core.display.HTML object>"
      ]
     },
     "metadata": {},
     "output_type": "display_data"
    },
    {
     "data": {
      "text/html": [
       "Find logs at: <code>./wandb/run-20240403_013828-6bmyn0pq/logs</code>"
      ],
      "text/plain": [
       "<IPython.core.display.HTML object>"
      ]
     },
     "metadata": {},
     "output_type": "display_data"
    },
    {
     "name": "stderr",
     "output_type": "stream",
     "text": [
      "\u001b[34m\u001b[1mwandb\u001b[0m: Agent Starting Run: jsr0xqgg with config:\n",
      "\u001b[34m\u001b[1mwandb\u001b[0m: \tImage_Crop_Size: 800\n",
      "\u001b[34m\u001b[1mwandb\u001b[0m: \tactivation: silu\n",
      "\u001b[34m\u001b[1mwandb\u001b[0m: \tbatch_norm: True\n",
      "\u001b[34m\u001b[1mwandb\u001b[0m: \tconv_filter_factor: 0.5\n",
      "\u001b[34m\u001b[1mwandb\u001b[0m: \tdata_aug: 1\n",
      "\u001b[34m\u001b[1mwandb\u001b[0m: \tdropout: None\n",
      "\u001b[34m\u001b[1mwandb\u001b[0m: \tepochs: 8\n",
      "\u001b[34m\u001b[1mwandb\u001b[0m: \tfilter_size: 5\n",
      "\u001b[34m\u001b[1mwandb\u001b[0m: \thidden_size: 128\n",
      "\u001b[34m\u001b[1mwandb\u001b[0m: \tlr: 0.0001\n",
      "\u001b[34m\u001b[1mwandb\u001b[0m: \tnum_conv_layers: 5\n",
      "\u001b[34m\u001b[1mwandb\u001b[0m: \tnum_filters: 4\n",
      "\u001b[34m\u001b[1mwandb\u001b[0m: \tnum_hidden_layers: 1\n",
      "\u001b[34m\u001b[1mwandb\u001b[0m: \toptimiser: rmsprop\n",
      "\u001b[34m\u001b[1mwandb\u001b[0m: \tweight_decay: 0.005\n"
     ]
    },
    {
     "data": {
      "text/html": [
       "wandb version 0.16.5 is available!  To upgrade, please run:\n",
       " $ pip install wandb --upgrade"
      ],
      "text/plain": [
       "<IPython.core.display.HTML object>"
      ]
     },
     "metadata": {},
     "output_type": "display_data"
    },
    {
     "data": {
      "text/html": [
       "Tracking run with wandb version 0.16.4"
      ],
      "text/plain": [
       "<IPython.core.display.HTML object>"
      ]
     },
     "metadata": {},
     "output_type": "display_data"
    },
    {
     "data": {
      "text/html": [
       "Run data is saved locally in <code>/Users/tejasmalladi/Documents/OM NAMO VENKATESAYA/Jai Vigneshwara IIT MADRAS/JV SEM2/JV Deep Learning/JV Assignments/JV-Deep-Learning-Assignment2/wandb/run-20240403_023254-jsr0xqgg</code>"
      ],
      "text/plain": [
       "<IPython.core.display.HTML object>"
      ]
     },
     "metadata": {},
     "output_type": "display_data"
    },
    {
     "data": {
      "text/html": [
       "Syncing run <strong><a href='https://wandb.ai/tmajestical/JV_CS23M036_TEJASVI_DL_ASSIGNMENT2/runs/jsr0xqgg' target=\"_blank\">mild-sweep-8</a></strong> to <a href='https://wandb.ai/tmajestical/JV_CS23M036_TEJASVI_DL_ASSIGNMENT2' target=\"_blank\">Weights & Biases</a> (<a href='https://wandb.me/run' target=\"_blank\">docs</a>)<br/>Sweep page: <a href='https://wandb.ai/tmajestical/JV_CS23M036_TEJASVI_DL_ASSIGNMENT2/sweeps/shrmtcif' target=\"_blank\">https://wandb.ai/tmajestical/JV_CS23M036_TEJASVI_DL_ASSIGNMENT2/sweeps/shrmtcif</a>"
      ],
      "text/plain": [
       "<IPython.core.display.HTML object>"
      ]
     },
     "metadata": {},
     "output_type": "display_data"
    },
    {
     "data": {
      "text/html": [
       " View project at <a href='https://wandb.ai/tmajestical/JV_CS23M036_TEJASVI_DL_ASSIGNMENT2' target=\"_blank\">https://wandb.ai/tmajestical/JV_CS23M036_TEJASVI_DL_ASSIGNMENT2</a>"
      ],
      "text/plain": [
       "<IPython.core.display.HTML object>"
      ]
     },
     "metadata": {},
     "output_type": "display_data"
    },
    {
     "data": {
      "text/html": [
       " View sweep at <a href='https://wandb.ai/tmajestical/JV_CS23M036_TEJASVI_DL_ASSIGNMENT2/sweeps/shrmtcif' target=\"_blank\">https://wandb.ai/tmajestical/JV_CS23M036_TEJASVI_DL_ASSIGNMENT2/sweeps/shrmtcif</a>"
      ],
      "text/plain": [
       "<IPython.core.display.HTML object>"
      ]
     },
     "metadata": {},
     "output_type": "display_data"
    },
    {
     "data": {
      "text/html": [
       " View run at <a href='https://wandb.ai/tmajestical/JV_CS23M036_TEJASVI_DL_ASSIGNMENT2/runs/jsr0xqgg' target=\"_blank\">https://wandb.ai/tmajestical/JV_CS23M036_TEJASVI_DL_ASSIGNMENT2/runs/jsr0xqgg</a>"
      ],
      "text/plain": [
       "<IPython.core.display.HTML object>"
      ]
     },
     "metadata": {},
     "output_type": "display_data"
    },
    {
     "name": "stdout",
     "output_type": "stream",
     "text": [
      "Using mps\n",
      "Preparing data from train/\n",
      "Preparing data from validation/\n",
      "Preparing data from test/\n"
     ]
    },
    {
     "data": {
      "application/vnd.jupyter.widget-view+json": {
       "model_id": "253bc9224f0d493390630093c4a0cb37",
       "version_major": 2,
       "version_minor": 0
      },
      "text/plain": [
       "  0%|          | 0/8 [00:00<?, ?it/s]"
      ]
     },
     "metadata": {},
     "output_type": "display_data"
    },
    {
     "name": "stdout",
     "output_type": "stream",
     "text": [
      "Samples in Train Data : 15998\n",
      "Epoch : 1\t Train Accuracy : 26.83%\t Train loss: 2.08\t Validation Accuracy : 28.55%\t Validation Loss : 2.04\n",
      "Epoch : 2\t Train Accuracy : 32.75%\t Train loss: 1.91\t Validation Accuracy : 29.90%\t Validation Loss : 2.06\n",
      "Epoch : 3\t Train Accuracy : 35.80%\t Train loss: 1.84\t Validation Accuracy : 32.95%\t Validation Loss : 2.00\n",
      "Epoch : 4\t Train Accuracy : 38.39%\t Train loss: 1.76\t Validation Accuracy : 34.75%\t Validation Loss : 1.86\n",
      "Epoch : 5\t Train Accuracy : 41.35%\t Train loss: 1.68\t Validation Accuracy : 33.85%\t Validation Loss : 1.95\n",
      "Epoch : 6\t Train Accuracy : 44.32%\t Train loss: 1.61\t Validation Accuracy : 34.55%\t Validation Loss : 1.88\n",
      "Epoch : 7\t Train Accuracy : 48.98%\t Train loss: 1.51\t Validation Accuracy : 35.25%\t Validation Loss : 1.92\n",
      "Epoch : 8\t Train Accuracy : 51.51%\t Train loss: 1.43\t Validation Accuracy : 32.80%\t Validation Loss : 2.03\n",
      "Finished Training!!\n",
      "Time Taken for Training: 41.32\n"
     ]
    },
    {
     "data": {
      "application/vnd.jupyter.widget-view+json": {
       "model_id": "beafd9303b044e03b689a8f28a9ec721",
       "version_major": 2,
       "version_minor": 0
      },
      "text/plain": [
       "VBox(children=(Label(value='0.001 MB of 0.006 MB uploaded\\r'), FloatProgress(value=0.1684921230307577, max=1.0…"
      ]
     },
     "metadata": {},
     "output_type": "display_data"
    },
    {
     "data": {
      "text/html": [
       "<style>\n",
       "    table.wandb td:nth-child(1) { padding: 0 10px; text-align: left ; width: auto;} td:nth-child(2) {text-align: left ; width: 100%}\n",
       "    .wandb-row { display: flex; flex-direction: row; flex-wrap: wrap; justify-content: flex-start; width: 100% }\n",
       "    .wandb-col { display: flex; flex-direction: column; flex-basis: 100%; flex: 1; padding: 10px; }\n",
       "    </style>\n",
       "<div class=\"wandb-row\"><div class=\"wandb-col\"><h3>Run history:</h3><br/><table class=\"wandb\"><tr><td>Validation accuracy</td><td>▁▂▆▇▇▇█▅</td></tr><tr><td>Validation loss</td><td>▇█▆▁▄▂▃▇</td></tr><tr><td>epoch</td><td>▁▂▃▄▅▆▇█</td></tr><tr><td>train accuracy</td><td>▁▃▄▄▅▆▇█</td></tr><tr><td>train loss</td><td>█▆▅▅▄▃▂▁</td></tr></table><br/></div><div class=\"wandb-col\"><h3>Run summary:</h3><br/><table class=\"wandb\"><tr><td>Validation accuracy</td><td>32.8</td></tr><tr><td>Validation loss</td><td>2.03</td></tr><tr><td>epoch</td><td>8</td></tr><tr><td>train accuracy</td><td>51.51</td></tr><tr><td>train loss</td><td>1.43037</td></tr></table><br/></div></div>"
      ],
      "text/plain": [
       "<IPython.core.display.HTML object>"
      ]
     },
     "metadata": {},
     "output_type": "display_data"
    },
    {
     "data": {
      "text/html": [
       " View run <strong style=\"color:#cdcd00\">mild-sweep-8</strong> at: <a href='https://wandb.ai/tmajestical/JV_CS23M036_TEJASVI_DL_ASSIGNMENT2/runs/jsr0xqgg' target=\"_blank\">https://wandb.ai/tmajestical/JV_CS23M036_TEJASVI_DL_ASSIGNMENT2/runs/jsr0xqgg</a><br/>Synced 6 W&B file(s), 0 media file(s), 0 artifact file(s) and 0 other file(s)"
      ],
      "text/plain": [
       "<IPython.core.display.HTML object>"
      ]
     },
     "metadata": {},
     "output_type": "display_data"
    },
    {
     "data": {
      "text/html": [
       "Find logs at: <code>./wandb/run-20240403_023254-jsr0xqgg/logs</code>"
      ],
      "text/plain": [
       "<IPython.core.display.HTML object>"
      ]
     },
     "metadata": {},
     "output_type": "display_data"
    },
    {
     "name": "stderr",
     "output_type": "stream",
     "text": [
      "\u001b[34m\u001b[1mwandb\u001b[0m: Agent Starting Run: wa9teoa6 with config:\n",
      "\u001b[34m\u001b[1mwandb\u001b[0m: \tImage_Crop_Size: 500\n",
      "\u001b[34m\u001b[1mwandb\u001b[0m: \tactivation: tanh\n",
      "\u001b[34m\u001b[1mwandb\u001b[0m: \tbatch_norm: False\n",
      "\u001b[34m\u001b[1mwandb\u001b[0m: \tconv_filter_factor: 1\n",
      "\u001b[34m\u001b[1mwandb\u001b[0m: \tdata_aug: 2\n",
      "\u001b[34m\u001b[1mwandb\u001b[0m: \tdropout: 0.2\n",
      "\u001b[34m\u001b[1mwandb\u001b[0m: \tepochs: 8\n",
      "\u001b[34m\u001b[1mwandb\u001b[0m: \tfilter_size: 5\n",
      "\u001b[34m\u001b[1mwandb\u001b[0m: \thidden_size: 32\n",
      "\u001b[34m\u001b[1mwandb\u001b[0m: \tlr: 0.001\n",
      "\u001b[34m\u001b[1mwandb\u001b[0m: \tnum_conv_layers: 5\n",
      "\u001b[34m\u001b[1mwandb\u001b[0m: \tnum_filters: 4\n",
      "\u001b[34m\u001b[1mwandb\u001b[0m: \tnum_hidden_layers: 1\n",
      "\u001b[34m\u001b[1mwandb\u001b[0m: \toptimiser: nadam\n",
      "\u001b[34m\u001b[1mwandb\u001b[0m: \tweight_decay: 0\n"
     ]
    },
    {
     "data": {
      "text/html": [
       "wandb version 0.16.5 is available!  To upgrade, please run:\n",
       " $ pip install wandb --upgrade"
      ],
      "text/plain": [
       "<IPython.core.display.HTML object>"
      ]
     },
     "metadata": {},
     "output_type": "display_data"
    },
    {
     "data": {
      "text/html": [
       "Tracking run with wandb version 0.16.4"
      ],
      "text/plain": [
       "<IPython.core.display.HTML object>"
      ]
     },
     "metadata": {},
     "output_type": "display_data"
    },
    {
     "data": {
      "text/html": [
       "Run data is saved locally in <code>/Users/tejasmalladi/Documents/OM NAMO VENKATESAYA/Jai Vigneshwara IIT MADRAS/JV SEM2/JV Deep Learning/JV Assignments/JV-Deep-Learning-Assignment2/wandb/run-20240403_031448-wa9teoa6</code>"
      ],
      "text/plain": [
       "<IPython.core.display.HTML object>"
      ]
     },
     "metadata": {},
     "output_type": "display_data"
    },
    {
     "data": {
      "text/html": [
       "Syncing run <strong><a href='https://wandb.ai/tmajestical/JV_CS23M036_TEJASVI_DL_ASSIGNMENT2/runs/wa9teoa6' target=\"_blank\">hardy-sweep-9</a></strong> to <a href='https://wandb.ai/tmajestical/JV_CS23M036_TEJASVI_DL_ASSIGNMENT2' target=\"_blank\">Weights & Biases</a> (<a href='https://wandb.me/run' target=\"_blank\">docs</a>)<br/>Sweep page: <a href='https://wandb.ai/tmajestical/JV_CS23M036_TEJASVI_DL_ASSIGNMENT2/sweeps/shrmtcif' target=\"_blank\">https://wandb.ai/tmajestical/JV_CS23M036_TEJASVI_DL_ASSIGNMENT2/sweeps/shrmtcif</a>"
      ],
      "text/plain": [
       "<IPython.core.display.HTML object>"
      ]
     },
     "metadata": {},
     "output_type": "display_data"
    },
    {
     "data": {
      "text/html": [
       " View project at <a href='https://wandb.ai/tmajestical/JV_CS23M036_TEJASVI_DL_ASSIGNMENT2' target=\"_blank\">https://wandb.ai/tmajestical/JV_CS23M036_TEJASVI_DL_ASSIGNMENT2</a>"
      ],
      "text/plain": [
       "<IPython.core.display.HTML object>"
      ]
     },
     "metadata": {},
     "output_type": "display_data"
    },
    {
     "data": {
      "text/html": [
       " View sweep at <a href='https://wandb.ai/tmajestical/JV_CS23M036_TEJASVI_DL_ASSIGNMENT2/sweeps/shrmtcif' target=\"_blank\">https://wandb.ai/tmajestical/JV_CS23M036_TEJASVI_DL_ASSIGNMENT2/sweeps/shrmtcif</a>"
      ],
      "text/plain": [
       "<IPython.core.display.HTML object>"
      ]
     },
     "metadata": {},
     "output_type": "display_data"
    },
    {
     "data": {
      "text/html": [
       " View run at <a href='https://wandb.ai/tmajestical/JV_CS23M036_TEJASVI_DL_ASSIGNMENT2/runs/wa9teoa6' target=\"_blank\">https://wandb.ai/tmajestical/JV_CS23M036_TEJASVI_DL_ASSIGNMENT2/runs/wa9teoa6</a>"
      ],
      "text/plain": [
       "<IPython.core.display.HTML object>"
      ]
     },
     "metadata": {},
     "output_type": "display_data"
    },
    {
     "name": "stdout",
     "output_type": "stream",
     "text": [
      "Using mps\n",
      "Preparing data from train/\n",
      "Preparing data from validation/\n",
      "Preparing data from test/\n"
     ]
    },
    {
     "data": {
      "application/vnd.jupyter.widget-view+json": {
       "model_id": "5d60c1d5889d475cbce3b9848eebe221",
       "version_major": 2,
       "version_minor": 0
      },
      "text/plain": [
       "  0%|          | 0/8 [00:00<?, ?it/s]"
      ]
     },
     "metadata": {},
     "output_type": "display_data"
    },
    {
     "name": "stdout",
     "output_type": "stream",
     "text": [
      "Samples in Train Data : 23997\n",
      "Epoch : 1\t Train Accuracy : 9.80%\t Train loss: 2.31\t Validation Accuracy : 10.00%\t Validation Loss : 2.30\n",
      "Epoch : 2\t Train Accuracy : 10.09%\t Train loss: 2.30\t Validation Accuracy : 10.00%\t Validation Loss : 2.30\n",
      "Epoch : 3\t Train Accuracy : 9.78%\t Train loss: 2.30\t Validation Accuracy : 10.00%\t Validation Loss : 2.30\n",
      "Epoch : 4\t Train Accuracy : 9.71%\t Train loss: 2.30\t Validation Accuracy : 10.00%\t Validation Loss : 2.30\n",
      "Epoch : 5\t Train Accuracy : 9.71%\t Train loss: 2.30\t Validation Accuracy : 10.00%\t Validation Loss : 2.30\n",
      "Epoch : 6\t Train Accuracy : 9.69%\t Train loss: 2.30\t Validation Accuracy : 10.00%\t Validation Loss : 2.30\n",
      "Epoch : 7\t Train Accuracy : 9.97%\t Train loss: 2.30\t Validation Accuracy : 10.00%\t Validation Loss : 2.30\n",
      "Epoch : 8\t Train Accuracy : 9.88%\t Train loss: 2.30\t Validation Accuracy : 10.00%\t Validation Loss : 2.30\n",
      "Finished Training!!\n",
      "Time Taken for Training: 24.52\n"
     ]
    },
    {
     "data": {
      "application/vnd.jupyter.widget-view+json": {
       "model_id": "1e68e2c4a0984e7fa24944c42c4f8949",
       "version_major": 2,
       "version_minor": 0
      },
      "text/plain": [
       "VBox(children=(Label(value='0.001 MB of 0.001 MB uploaded\\r'), FloatProgress(value=1.0, max=1.0)))"
      ]
     },
     "metadata": {},
     "output_type": "display_data"
    },
    {
     "data": {
      "text/html": [
       "<style>\n",
       "    table.wandb td:nth-child(1) { padding: 0 10px; text-align: left ; width: auto;} td:nth-child(2) {text-align: left ; width: 100%}\n",
       "    .wandb-row { display: flex; flex-direction: row; flex-wrap: wrap; justify-content: flex-start; width: 100% }\n",
       "    .wandb-col { display: flex; flex-direction: column; flex-basis: 100%; flex: 1; padding: 10px; }\n",
       "    </style>\n",
       "<div class=\"wandb-row\"><div class=\"wandb-col\"><h3>Run history:</h3><br/><table class=\"wandb\"><tr><td>Validation accuracy</td><td>▁▁▁▁▁▁▁▁</td></tr><tr><td>Validation loss</td><td>▁▁▁▁▁▁▁▁</td></tr><tr><td>epoch</td><td>▁▂▃▄▅▆▇█</td></tr><tr><td>train accuracy</td><td>▃█▃▁▁▁▆▄</td></tr><tr><td>train loss</td><td>█▁▁▁▁▁▁▁</td></tr></table><br/></div><div class=\"wandb-col\"><h3>Run summary:</h3><br/><table class=\"wandb\"><tr><td>Validation accuracy</td><td>10.0</td></tr><tr><td>Validation loss</td><td>2.3</td></tr><tr><td>epoch</td><td>8</td></tr><tr><td>train accuracy</td><td>9.88</td></tr><tr><td>train loss</td><td>2.30307</td></tr></table><br/></div></div>"
      ],
      "text/plain": [
       "<IPython.core.display.HTML object>"
      ]
     },
     "metadata": {},
     "output_type": "display_data"
    },
    {
     "data": {
      "text/html": [
       " View run <strong style=\"color:#cdcd00\">hardy-sweep-9</strong> at: <a href='https://wandb.ai/tmajestical/JV_CS23M036_TEJASVI_DL_ASSIGNMENT2/runs/wa9teoa6' target=\"_blank\">https://wandb.ai/tmajestical/JV_CS23M036_TEJASVI_DL_ASSIGNMENT2/runs/wa9teoa6</a><br/>Synced 6 W&B file(s), 0 media file(s), 0 artifact file(s) and 0 other file(s)"
      ],
      "text/plain": [
       "<IPython.core.display.HTML object>"
      ]
     },
     "metadata": {},
     "output_type": "display_data"
    },
    {
     "data": {
      "text/html": [
       "Find logs at: <code>./wandb/run-20240403_031448-wa9teoa6/logs</code>"
      ],
      "text/plain": [
       "<IPython.core.display.HTML object>"
      ]
     },
     "metadata": {},
     "output_type": "display_data"
    },
    {
     "name": "stderr",
     "output_type": "stream",
     "text": [
      "\u001b[34m\u001b[1mwandb\u001b[0m: Sweep Agent: Waiting for job.\n",
      "\u001b[34m\u001b[1mwandb\u001b[0m: Job received.\n",
      "\u001b[34m\u001b[1mwandb\u001b[0m: Agent Starting Run: kdafdg24 with config:\n",
      "\u001b[34m\u001b[1mwandb\u001b[0m: \tImage_Crop_Size: 800\n",
      "\u001b[34m\u001b[1mwandb\u001b[0m: \tactivation: relu\n",
      "\u001b[34m\u001b[1mwandb\u001b[0m: \tbatch_norm: False\n",
      "\u001b[34m\u001b[1mwandb\u001b[0m: \tconv_filter_factor: 1\n",
      "\u001b[34m\u001b[1mwandb\u001b[0m: \tdata_aug: 1\n",
      "\u001b[34m\u001b[1mwandb\u001b[0m: \tdropout: None\n",
      "\u001b[34m\u001b[1mwandb\u001b[0m: \tepochs: 8\n",
      "\u001b[34m\u001b[1mwandb\u001b[0m: \tfilter_size: 7\n",
      "\u001b[34m\u001b[1mwandb\u001b[0m: \thidden_size: 64\n",
      "\u001b[34m\u001b[1mwandb\u001b[0m: \tlr: 0.001\n",
      "\u001b[34m\u001b[1mwandb\u001b[0m: \tnum_conv_layers: 5\n",
      "\u001b[34m\u001b[1mwandb\u001b[0m: \tnum_filters: 4\n",
      "\u001b[34m\u001b[1mwandb\u001b[0m: \tnum_hidden_layers: 1\n",
      "\u001b[34m\u001b[1mwandb\u001b[0m: \toptimiser: nadam\n",
      "\u001b[34m\u001b[1mwandb\u001b[0m: \tweight_decay: 0.005\n"
     ]
    },
    {
     "data": {
      "text/html": [
       "wandb version 0.16.5 is available!  To upgrade, please run:\n",
       " $ pip install wandb --upgrade"
      ],
      "text/plain": [
       "<IPython.core.display.HTML object>"
      ]
     },
     "metadata": {},
     "output_type": "display_data"
    },
    {
     "data": {
      "text/html": [
       "Tracking run with wandb version 0.16.4"
      ],
      "text/plain": [
       "<IPython.core.display.HTML object>"
      ]
     },
     "metadata": {},
     "output_type": "display_data"
    },
    {
     "data": {
      "text/html": [
       "Run data is saved locally in <code>/Users/tejasmalladi/Documents/OM NAMO VENKATESAYA/Jai Vigneshwara IIT MADRAS/JV SEM2/JV Deep Learning/JV Assignments/JV-Deep-Learning-Assignment2/wandb/run-20240403_034001-kdafdg24</code>"
      ],
      "text/plain": [
       "<IPython.core.display.HTML object>"
      ]
     },
     "metadata": {},
     "output_type": "display_data"
    },
    {
     "data": {
      "text/html": [
       "Syncing run <strong><a href='https://wandb.ai/tmajestical/JV_CS23M036_TEJASVI_DL_ASSIGNMENT2/runs/kdafdg24' target=\"_blank\">stellar-sweep-10</a></strong> to <a href='https://wandb.ai/tmajestical/JV_CS23M036_TEJASVI_DL_ASSIGNMENT2' target=\"_blank\">Weights & Biases</a> (<a href='https://wandb.me/run' target=\"_blank\">docs</a>)<br/>Sweep page: <a href='https://wandb.ai/tmajestical/JV_CS23M036_TEJASVI_DL_ASSIGNMENT2/sweeps/shrmtcif' target=\"_blank\">https://wandb.ai/tmajestical/JV_CS23M036_TEJASVI_DL_ASSIGNMENT2/sweeps/shrmtcif</a>"
      ],
      "text/plain": [
       "<IPython.core.display.HTML object>"
      ]
     },
     "metadata": {},
     "output_type": "display_data"
    },
    {
     "data": {
      "text/html": [
       " View project at <a href='https://wandb.ai/tmajestical/JV_CS23M036_TEJASVI_DL_ASSIGNMENT2' target=\"_blank\">https://wandb.ai/tmajestical/JV_CS23M036_TEJASVI_DL_ASSIGNMENT2</a>"
      ],
      "text/plain": [
       "<IPython.core.display.HTML object>"
      ]
     },
     "metadata": {},
     "output_type": "display_data"
    },
    {
     "data": {
      "text/html": [
       " View sweep at <a href='https://wandb.ai/tmajestical/JV_CS23M036_TEJASVI_DL_ASSIGNMENT2/sweeps/shrmtcif' target=\"_blank\">https://wandb.ai/tmajestical/JV_CS23M036_TEJASVI_DL_ASSIGNMENT2/sweeps/shrmtcif</a>"
      ],
      "text/plain": [
       "<IPython.core.display.HTML object>"
      ]
     },
     "metadata": {},
     "output_type": "display_data"
    },
    {
     "data": {
      "text/html": [
       " View run at <a href='https://wandb.ai/tmajestical/JV_CS23M036_TEJASVI_DL_ASSIGNMENT2/runs/kdafdg24' target=\"_blank\">https://wandb.ai/tmajestical/JV_CS23M036_TEJASVI_DL_ASSIGNMENT2/runs/kdafdg24</a>"
      ],
      "text/plain": [
       "<IPython.core.display.HTML object>"
      ]
     },
     "metadata": {},
     "output_type": "display_data"
    },
    {
     "name": "stdout",
     "output_type": "stream",
     "text": [
      "Using mps\n",
      "Preparing data from train/\n",
      "Preparing data from validation/\n",
      "Preparing data from test/\n"
     ]
    },
    {
     "data": {
      "application/vnd.jupyter.widget-view+json": {
       "model_id": "99b0fc026dc44e01b82ca4658c86e87a",
       "version_major": 2,
       "version_minor": 0
      },
      "text/plain": [
       "  0%|          | 0/8 [00:00<?, ?it/s]"
      ]
     },
     "metadata": {},
     "output_type": "display_data"
    },
    {
     "name": "stdout",
     "output_type": "stream",
     "text": [
      "Samples in Train Data : 15998\n",
      "Epoch : 1\t Train Accuracy : 15.87%\t Train loss: 2.33\t Validation Accuracy : 21.40%\t Validation Loss : 2.15\n",
      "Epoch : 2\t Train Accuracy : 21.95%\t Train loss: 2.14\t Validation Accuracy : 23.95%\t Validation Loss : 2.08\n",
      "Epoch : 3\t Train Accuracy : 23.07%\t Train loss: 2.11\t Validation Accuracy : 25.65%\t Validation Loss : 2.05\n",
      "Epoch : 4\t Train Accuracy : 25.17%\t Train loss: 2.07\t Validation Accuracy : 26.20%\t Validation Loss : 2.01\n",
      "Epoch : 5\t Train Accuracy : 25.78%\t Train loss: 2.05\t Validation Accuracy : 29.45%\t Validation Loss : 1.98\n",
      "Epoch : 6\t Train Accuracy : 27.13%\t Train loss: 2.02\t Validation Accuracy : 27.35%\t Validation Loss : 1.99\n",
      "Epoch : 7\t Train Accuracy : 28.49%\t Train loss: 2.00\t Validation Accuracy : 25.45%\t Validation Loss : 2.03\n",
      "Epoch : 8\t Train Accuracy : 28.97%\t Train loss: 1.99\t Validation Accuracy : 30.25%\t Validation Loss : 1.97\n",
      "Finished Training!!\n",
      "Time Taken for Training: 38.35\n"
     ]
    },
    {
     "data": {
      "application/vnd.jupyter.widget-view+json": {
       "model_id": "3c988f23a3f941f3b977a37bc533760a",
       "version_major": 2,
       "version_minor": 0
      },
      "text/plain": [
       "VBox(children=(Label(value='0.001 MB of 0.006 MB uploaded\\r'), FloatProgress(value=0.16854269848416628, max=1.…"
      ]
     },
     "metadata": {},
     "output_type": "display_data"
    },
    {
     "data": {
      "text/html": [
       "<style>\n",
       "    table.wandb td:nth-child(1) { padding: 0 10px; text-align: left ; width: auto;} td:nth-child(2) {text-align: left ; width: 100%}\n",
       "    .wandb-row { display: flex; flex-direction: row; flex-wrap: wrap; justify-content: flex-start; width: 100% }\n",
       "    .wandb-col { display: flex; flex-direction: column; flex-basis: 100%; flex: 1; padding: 10px; }\n",
       "    </style>\n",
       "<div class=\"wandb-row\"><div class=\"wandb-col\"><h3>Run history:</h3><br/><table class=\"wandb\"><tr><td>Validation accuracy</td><td>▁▃▄▅▇▆▄█</td></tr><tr><td>Validation loss</td><td>█▅▄▃▁▂▃▁</td></tr><tr><td>epoch</td><td>▁▂▃▄▅▆▇█</td></tr><tr><td>train accuracy</td><td>▁▄▅▆▆▇██</td></tr><tr><td>train loss</td><td>█▄▃▃▂▂▁▁</td></tr></table><br/></div><div class=\"wandb-col\"><h3>Run summary:</h3><br/><table class=\"wandb\"><tr><td>Validation accuracy</td><td>30.25</td></tr><tr><td>Validation loss</td><td>1.97</td></tr><tr><td>epoch</td><td>8</td></tr><tr><td>train accuracy</td><td>28.97</td></tr><tr><td>train loss</td><td>1.98842</td></tr></table><br/></div></div>"
      ],
      "text/plain": [
       "<IPython.core.display.HTML object>"
      ]
     },
     "metadata": {},
     "output_type": "display_data"
    },
    {
     "data": {
      "text/html": [
       " View run <strong style=\"color:#cdcd00\">stellar-sweep-10</strong> at: <a href='https://wandb.ai/tmajestical/JV_CS23M036_TEJASVI_DL_ASSIGNMENT2/runs/kdafdg24' target=\"_blank\">https://wandb.ai/tmajestical/JV_CS23M036_TEJASVI_DL_ASSIGNMENT2/runs/kdafdg24</a><br/>Synced 6 W&B file(s), 0 media file(s), 0 artifact file(s) and 0 other file(s)"
      ],
      "text/plain": [
       "<IPython.core.display.HTML object>"
      ]
     },
     "metadata": {},
     "output_type": "display_data"
    },
    {
     "data": {
      "text/html": [
       "Find logs at: <code>./wandb/run-20240403_034001-kdafdg24/logs</code>"
      ],
      "text/plain": [
       "<IPython.core.display.HTML object>"
      ]
     },
     "metadata": {},
     "output_type": "display_data"
    },
    {
     "name": "stderr",
     "output_type": "stream",
     "text": [
      "\u001b[34m\u001b[1mwandb\u001b[0m: Agent Starting Run: 6ck44iws with config:\n",
      "\u001b[34m\u001b[1mwandb\u001b[0m: \tImage_Crop_Size: 800\n",
      "\u001b[34m\u001b[1mwandb\u001b[0m: \tactivation: relu\n",
      "\u001b[34m\u001b[1mwandb\u001b[0m: \tbatch_norm: False\n",
      "\u001b[34m\u001b[1mwandb\u001b[0m: \tconv_filter_factor: 1\n",
      "\u001b[34m\u001b[1mwandb\u001b[0m: \tdata_aug: 1\n",
      "\u001b[34m\u001b[1mwandb\u001b[0m: \tdropout: 0.2\n",
      "\u001b[34m\u001b[1mwandb\u001b[0m: \tepochs: 8\n",
      "\u001b[34m\u001b[1mwandb\u001b[0m: \tfilter_size: 11\n",
      "\u001b[34m\u001b[1mwandb\u001b[0m: \thidden_size: 64\n",
      "\u001b[34m\u001b[1mwandb\u001b[0m: \tlr: 0.0001\n",
      "\u001b[34m\u001b[1mwandb\u001b[0m: \tnum_conv_layers: 5\n",
      "\u001b[34m\u001b[1mwandb\u001b[0m: \tnum_filters: 4\n",
      "\u001b[34m\u001b[1mwandb\u001b[0m: \tnum_hidden_layers: 1\n",
      "\u001b[34m\u001b[1mwandb\u001b[0m: \toptimiser: rmsprop\n",
      "\u001b[34m\u001b[1mwandb\u001b[0m: \tweight_decay: 0\n"
     ]
    },
    {
     "data": {
      "text/html": [
       "wandb version 0.16.5 is available!  To upgrade, please run:\n",
       " $ pip install wandb --upgrade"
      ],
      "text/plain": [
       "<IPython.core.display.HTML object>"
      ]
     },
     "metadata": {},
     "output_type": "display_data"
    },
    {
     "data": {
      "text/html": [
       "Tracking run with wandb version 0.16.4"
      ],
      "text/plain": [
       "<IPython.core.display.HTML object>"
      ]
     },
     "metadata": {},
     "output_type": "display_data"
    },
    {
     "data": {
      "text/html": [
       "Run data is saved locally in <code>/Users/tejasmalladi/Documents/OM NAMO VENKATESAYA/Jai Vigneshwara IIT MADRAS/JV SEM2/JV Deep Learning/JV Assignments/JV-Deep-Learning-Assignment2/wandb/run-20240403_041854-6ck44iws</code>"
      ],
      "text/plain": [
       "<IPython.core.display.HTML object>"
      ]
     },
     "metadata": {},
     "output_type": "display_data"
    },
    {
     "data": {
      "text/html": [
       "Syncing run <strong><a href='https://wandb.ai/tmajestical/JV_CS23M036_TEJASVI_DL_ASSIGNMENT2/runs/6ck44iws' target=\"_blank\">effortless-sweep-11</a></strong> to <a href='https://wandb.ai/tmajestical/JV_CS23M036_TEJASVI_DL_ASSIGNMENT2' target=\"_blank\">Weights & Biases</a> (<a href='https://wandb.me/run' target=\"_blank\">docs</a>)<br/>Sweep page: <a href='https://wandb.ai/tmajestical/JV_CS23M036_TEJASVI_DL_ASSIGNMENT2/sweeps/shrmtcif' target=\"_blank\">https://wandb.ai/tmajestical/JV_CS23M036_TEJASVI_DL_ASSIGNMENT2/sweeps/shrmtcif</a>"
      ],
      "text/plain": [
       "<IPython.core.display.HTML object>"
      ]
     },
     "metadata": {},
     "output_type": "display_data"
    },
    {
     "data": {
      "text/html": [
       " View project at <a href='https://wandb.ai/tmajestical/JV_CS23M036_TEJASVI_DL_ASSIGNMENT2' target=\"_blank\">https://wandb.ai/tmajestical/JV_CS23M036_TEJASVI_DL_ASSIGNMENT2</a>"
      ],
      "text/plain": [
       "<IPython.core.display.HTML object>"
      ]
     },
     "metadata": {},
     "output_type": "display_data"
    },
    {
     "data": {
      "text/html": [
       " View sweep at <a href='https://wandb.ai/tmajestical/JV_CS23M036_TEJASVI_DL_ASSIGNMENT2/sweeps/shrmtcif' target=\"_blank\">https://wandb.ai/tmajestical/JV_CS23M036_TEJASVI_DL_ASSIGNMENT2/sweeps/shrmtcif</a>"
      ],
      "text/plain": [
       "<IPython.core.display.HTML object>"
      ]
     },
     "metadata": {},
     "output_type": "display_data"
    },
    {
     "data": {
      "text/html": [
       " View run at <a href='https://wandb.ai/tmajestical/JV_CS23M036_TEJASVI_DL_ASSIGNMENT2/runs/6ck44iws' target=\"_blank\">https://wandb.ai/tmajestical/JV_CS23M036_TEJASVI_DL_ASSIGNMENT2/runs/6ck44iws</a>"
      ],
      "text/plain": [
       "<IPython.core.display.HTML object>"
      ]
     },
     "metadata": {},
     "output_type": "display_data"
    },
    {
     "name": "stdout",
     "output_type": "stream",
     "text": [
      "Using mps\n",
      "Preparing data from train/\n",
      "Preparing data from validation/\n",
      "Preparing data from test/\n"
     ]
    },
    {
     "data": {
      "application/vnd.jupyter.widget-view+json": {
       "model_id": "4d3507e25b774bff9700bd51b5be17ea",
       "version_major": 2,
       "version_minor": 0
      },
      "text/plain": [
       "  0%|          | 0/8 [00:00<?, ?it/s]"
      ]
     },
     "metadata": {},
     "output_type": "display_data"
    },
    {
     "name": "stdout",
     "output_type": "stream",
     "text": [
      "Samples in Train Data : 15998\n",
      "Epoch : 1\t Train Accuracy : 13.95%\t Train loss: 2.40\t Validation Accuracy : 19.10%\t Validation Loss : 2.23\n",
      "Epoch : 2\t Train Accuracy : 23.66%\t Train loss: 2.13\t Validation Accuracy : 27.45%\t Validation Loss : 2.04\n",
      "Epoch : 3\t Train Accuracy : 29.73%\t Train loss: 1.98\t Validation Accuracy : 29.95%\t Validation Loss : 1.97\n",
      "Epoch : 4\t Train Accuracy : 36.31%\t Train loss: 1.83\t Validation Accuracy : 30.35%\t Validation Loss : 1.95\n",
      "Epoch : 5\t Train Accuracy : 42.98%\t Train loss: 1.66\t Validation Accuracy : 31.90%\t Validation Loss : 2.05\n",
      "Epoch : 6\t Train Accuracy : 49.43%\t Train loss: 1.49\t Validation Accuracy : 31.65%\t Validation Loss : 2.11\n",
      "Epoch : 7\t Train Accuracy : 54.75%\t Train loss: 1.35\t Validation Accuracy : 31.10%\t Validation Loss : 2.22\n",
      "Epoch : 8\t Train Accuracy : 58.31%\t Train loss: 1.24\t Validation Accuracy : 32.65%\t Validation Loss : 2.42\n",
      "Finished Training!!\n",
      "Time Taken for Training: 38.02\n"
     ]
    },
    {
     "data": {
      "application/vnd.jupyter.widget-view+json": {
       "model_id": "41e0d0c719a34acb923ffc7665d60bf3",
       "version_major": 2,
       "version_minor": 0
      },
      "text/plain": [
       "VBox(children=(Label(value='0.001 MB of 0.001 MB uploaded\\r'), FloatProgress(value=1.0, max=1.0)))"
      ]
     },
     "metadata": {},
     "output_type": "display_data"
    },
    {
     "data": {
      "text/html": [
       "<style>\n",
       "    table.wandb td:nth-child(1) { padding: 0 10px; text-align: left ; width: auto;} td:nth-child(2) {text-align: left ; width: 100%}\n",
       "    .wandb-row { display: flex; flex-direction: row; flex-wrap: wrap; justify-content: flex-start; width: 100% }\n",
       "    .wandb-col { display: flex; flex-direction: column; flex-basis: 100%; flex: 1; padding: 10px; }\n",
       "    </style>\n",
       "<div class=\"wandb-row\"><div class=\"wandb-col\"><h3>Run history:</h3><br/><table class=\"wandb\"><tr><td>Validation accuracy</td><td>▁▅▇▇█▇▇█</td></tr><tr><td>Validation loss</td><td>▅▂▁▁▂▃▅█</td></tr><tr><td>epoch</td><td>▁▂▃▄▅▆▇█</td></tr><tr><td>train accuracy</td><td>▁▃▃▅▆▇▇█</td></tr><tr><td>train loss</td><td>█▆▅▅▄▂▂▁</td></tr></table><br/></div><div class=\"wandb-col\"><h3>Run summary:</h3><br/><table class=\"wandb\"><tr><td>Validation accuracy</td><td>32.65</td></tr><tr><td>Validation loss</td><td>2.42</td></tr><tr><td>epoch</td><td>8</td></tr><tr><td>train accuracy</td><td>58.31</td></tr><tr><td>train loss</td><td>1.24143</td></tr></table><br/></div></div>"
      ],
      "text/plain": [
       "<IPython.core.display.HTML object>"
      ]
     },
     "metadata": {},
     "output_type": "display_data"
    },
    {
     "data": {
      "text/html": [
       " View run <strong style=\"color:#cdcd00\">effortless-sweep-11</strong> at: <a href='https://wandb.ai/tmajestical/JV_CS23M036_TEJASVI_DL_ASSIGNMENT2/runs/6ck44iws' target=\"_blank\">https://wandb.ai/tmajestical/JV_CS23M036_TEJASVI_DL_ASSIGNMENT2/runs/6ck44iws</a><br/>Synced 6 W&B file(s), 0 media file(s), 0 artifact file(s) and 0 other file(s)"
      ],
      "text/plain": [
       "<IPython.core.display.HTML object>"
      ]
     },
     "metadata": {},
     "output_type": "display_data"
    },
    {
     "data": {
      "text/html": [
       "Find logs at: <code>./wandb/run-20240403_041854-6ck44iws/logs</code>"
      ],
      "text/plain": [
       "<IPython.core.display.HTML object>"
      ]
     },
     "metadata": {},
     "output_type": "display_data"
    },
    {
     "name": "stderr",
     "output_type": "stream",
     "text": [
      "\u001b[34m\u001b[1mwandb\u001b[0m: Agent Starting Run: 66fc3hkz with config:\n",
      "\u001b[34m\u001b[1mwandb\u001b[0m: \tImage_Crop_Size: 800\n",
      "\u001b[34m\u001b[1mwandb\u001b[0m: \tactivation: silu\n",
      "\u001b[34m\u001b[1mwandb\u001b[0m: \tbatch_norm: False\n",
      "\u001b[34m\u001b[1mwandb\u001b[0m: \tconv_filter_factor: 2\n",
      "\u001b[34m\u001b[1mwandb\u001b[0m: \tdata_aug: None\n",
      "\u001b[34m\u001b[1mwandb\u001b[0m: \tdropout: 0.3\n",
      "\u001b[34m\u001b[1mwandb\u001b[0m: \tepochs: 8\n",
      "\u001b[34m\u001b[1mwandb\u001b[0m: \tfilter_size: 5\n",
      "\u001b[34m\u001b[1mwandb\u001b[0m: \thidden_size: 256\n",
      "\u001b[34m\u001b[1mwandb\u001b[0m: \tlr: 0.0003\n",
      "\u001b[34m\u001b[1mwandb\u001b[0m: \tnum_conv_layers: 5\n",
      "\u001b[34m\u001b[1mwandb\u001b[0m: \tnum_filters: 8\n",
      "\u001b[34m\u001b[1mwandb\u001b[0m: \tnum_hidden_layers: 1\n",
      "\u001b[34m\u001b[1mwandb\u001b[0m: \toptimiser: rmsprop\n",
      "\u001b[34m\u001b[1mwandb\u001b[0m: \tweight_decay: 0.005\n"
     ]
    },
    {
     "data": {
      "text/html": [
       "wandb version 0.16.5 is available!  To upgrade, please run:\n",
       " $ pip install wandb --upgrade"
      ],
      "text/plain": [
       "<IPython.core.display.HTML object>"
      ]
     },
     "metadata": {},
     "output_type": "display_data"
    },
    {
     "data": {
      "text/html": [
       "Tracking run with wandb version 0.16.4"
      ],
      "text/plain": [
       "<IPython.core.display.HTML object>"
      ]
     },
     "metadata": {},
     "output_type": "display_data"
    },
    {
     "data": {
      "text/html": [
       "Run data is saved locally in <code>/Users/tejasmalladi/Documents/OM NAMO VENKATESAYA/Jai Vigneshwara IIT MADRAS/JV SEM2/JV Deep Learning/JV Assignments/JV-Deep-Learning-Assignment2/wandb/run-20240403_045730-66fc3hkz</code>"
      ],
      "text/plain": [
       "<IPython.core.display.HTML object>"
      ]
     },
     "metadata": {},
     "output_type": "display_data"
    },
    {
     "data": {
      "text/html": [
       "Syncing run <strong><a href='https://wandb.ai/tmajestical/JV_CS23M036_TEJASVI_DL_ASSIGNMENT2/runs/66fc3hkz' target=\"_blank\">sweet-sweep-12</a></strong> to <a href='https://wandb.ai/tmajestical/JV_CS23M036_TEJASVI_DL_ASSIGNMENT2' target=\"_blank\">Weights & Biases</a> (<a href='https://wandb.me/run' target=\"_blank\">docs</a>)<br/>Sweep page: <a href='https://wandb.ai/tmajestical/JV_CS23M036_TEJASVI_DL_ASSIGNMENT2/sweeps/shrmtcif' target=\"_blank\">https://wandb.ai/tmajestical/JV_CS23M036_TEJASVI_DL_ASSIGNMENT2/sweeps/shrmtcif</a>"
      ],
      "text/plain": [
       "<IPython.core.display.HTML object>"
      ]
     },
     "metadata": {},
     "output_type": "display_data"
    },
    {
     "data": {
      "text/html": [
       " View project at <a href='https://wandb.ai/tmajestical/JV_CS23M036_TEJASVI_DL_ASSIGNMENT2' target=\"_blank\">https://wandb.ai/tmajestical/JV_CS23M036_TEJASVI_DL_ASSIGNMENT2</a>"
      ],
      "text/plain": [
       "<IPython.core.display.HTML object>"
      ]
     },
     "metadata": {},
     "output_type": "display_data"
    },
    {
     "data": {
      "text/html": [
       " View sweep at <a href='https://wandb.ai/tmajestical/JV_CS23M036_TEJASVI_DL_ASSIGNMENT2/sweeps/shrmtcif' target=\"_blank\">https://wandb.ai/tmajestical/JV_CS23M036_TEJASVI_DL_ASSIGNMENT2/sweeps/shrmtcif</a>"
      ],
      "text/plain": [
       "<IPython.core.display.HTML object>"
      ]
     },
     "metadata": {},
     "output_type": "display_data"
    },
    {
     "data": {
      "text/html": [
       " View run at <a href='https://wandb.ai/tmajestical/JV_CS23M036_TEJASVI_DL_ASSIGNMENT2/runs/66fc3hkz' target=\"_blank\">https://wandb.ai/tmajestical/JV_CS23M036_TEJASVI_DL_ASSIGNMENT2/runs/66fc3hkz</a>"
      ],
      "text/plain": [
       "<IPython.core.display.HTML object>"
      ]
     },
     "metadata": {},
     "output_type": "display_data"
    },
    {
     "name": "stdout",
     "output_type": "stream",
     "text": [
      "Using mps\n",
      "Preparing data from train/\n",
      "Preparing data from validation/\n",
      "Preparing data from test/\n"
     ]
    },
    {
     "data": {
      "application/vnd.jupyter.widget-view+json": {
       "model_id": "a41f47c48994491393f2e48e6c385a81",
       "version_major": 2,
       "version_minor": 0
      },
      "text/plain": [
       "  0%|          | 0/8 [00:00<?, ?it/s]"
      ]
     },
     "metadata": {},
     "output_type": "display_data"
    },
    {
     "name": "stdout",
     "output_type": "stream",
     "text": [
      "Samples in Train Data : 7999\n",
      "Epoch : 1\t Train Accuracy : 15.85%\t Train loss: 2.51\t Validation Accuracy : 20.35%\t Validation Loss : 2.18\n",
      "Epoch : 2\t Train Accuracy : 19.86%\t Train loss: 2.19\t Validation Accuracy : 21.95%\t Validation Loss : 2.15\n",
      "Epoch : 3\t Train Accuracy : 22.80%\t Train loss: 2.13\t Validation Accuracy : 23.45%\t Validation Loss : 2.10\n",
      "Epoch : 4\t Train Accuracy : 27.10%\t Train loss: 2.04\t Validation Accuracy : 27.30%\t Validation Loss : 2.03\n",
      "Epoch : 5\t Train Accuracy : 30.57%\t Train loss: 1.97\t Validation Accuracy : 26.60%\t Validation Loss : 2.04\n",
      "Epoch : 6\t Train Accuracy : 35.15%\t Train loss: 1.87\t Validation Accuracy : 27.60%\t Validation Loss : 2.06\n",
      "Epoch : 7\t Train Accuracy : 39.25%\t Train loss: 1.74\t Validation Accuracy : 27.50%\t Validation Loss : 2.05\n",
      "Epoch : 8\t Train Accuracy : 46.33%\t Train loss: 1.53\t Validation Accuracy : 26.45%\t Validation Loss : 2.23\n",
      "Finished Training!!\n",
      "Time Taken for Training: 24.16\n"
     ]
    },
    {
     "data": {
      "application/vnd.jupyter.widget-view+json": {
       "model_id": "ed4e71daf3b447afa6bd5fd309225fb6",
       "version_major": 2,
       "version_minor": 0
      },
      "text/plain": [
       "VBox(children=(Label(value='0.001 MB of 0.014 MB uploaded\\r'), FloatProgress(value=0.07403497195645002, max=1.…"
      ]
     },
     "metadata": {},
     "output_type": "display_data"
    },
    {
     "data": {
      "text/html": [
       "<style>\n",
       "    table.wandb td:nth-child(1) { padding: 0 10px; text-align: left ; width: auto;} td:nth-child(2) {text-align: left ; width: 100%}\n",
       "    .wandb-row { display: flex; flex-direction: row; flex-wrap: wrap; justify-content: flex-start; width: 100% }\n",
       "    .wandb-col { display: flex; flex-direction: column; flex-basis: 100%; flex: 1; padding: 10px; }\n",
       "    </style>\n",
       "<div class=\"wandb-row\"><div class=\"wandb-col\"><h3>Run history:</h3><br/><table class=\"wandb\"><tr><td>Validation accuracy</td><td>▁▃▄█▇██▇</td></tr><tr><td>Validation loss</td><td>▆▅▃▁▁▂▂█</td></tr><tr><td>epoch</td><td>▁▂▃▄▅▆▇█</td></tr><tr><td>train accuracy</td><td>▁▂▃▄▄▅▆█</td></tr><tr><td>train loss</td><td>█▆▅▅▄▃▂▁</td></tr></table><br/></div><div class=\"wandb-col\"><h3>Run summary:</h3><br/><table class=\"wandb\"><tr><td>Validation accuracy</td><td>26.45</td></tr><tr><td>Validation loss</td><td>2.23</td></tr><tr><td>epoch</td><td>8</td></tr><tr><td>train accuracy</td><td>46.33</td></tr><tr><td>train loss</td><td>1.53486</td></tr></table><br/></div></div>"
      ],
      "text/plain": [
       "<IPython.core.display.HTML object>"
      ]
     },
     "metadata": {},
     "output_type": "display_data"
    },
    {
     "data": {
      "text/html": [
       " View run <strong style=\"color:#cdcd00\">sweet-sweep-12</strong> at: <a href='https://wandb.ai/tmajestical/JV_CS23M036_TEJASVI_DL_ASSIGNMENT2/runs/66fc3hkz' target=\"_blank\">https://wandb.ai/tmajestical/JV_CS23M036_TEJASVI_DL_ASSIGNMENT2/runs/66fc3hkz</a><br/>Synced 6 W&B file(s), 0 media file(s), 0 artifact file(s) and 0 other file(s)"
      ],
      "text/plain": [
       "<IPython.core.display.HTML object>"
      ]
     },
     "metadata": {},
     "output_type": "display_data"
    },
    {
     "data": {
      "text/html": [
       "Find logs at: <code>./wandb/run-20240403_045730-66fc3hkz/logs</code>"
      ],
      "text/plain": [
       "<IPython.core.display.HTML object>"
      ]
     },
     "metadata": {},
     "output_type": "display_data"
    },
    {
     "name": "stderr",
     "output_type": "stream",
     "text": [
      "\u001b[34m\u001b[1mwandb\u001b[0m: Agent Starting Run: acnwfhzl with config:\n",
      "\u001b[34m\u001b[1mwandb\u001b[0m: \tImage_Crop_Size: 800\n",
      "\u001b[34m\u001b[1mwandb\u001b[0m: \tactivation: relu\n",
      "\u001b[34m\u001b[1mwandb\u001b[0m: \tbatch_norm: True\n",
      "\u001b[34m\u001b[1mwandb\u001b[0m: \tconv_filter_factor: 0.5\n",
      "\u001b[34m\u001b[1mwandb\u001b[0m: \tdata_aug: 1\n",
      "\u001b[34m\u001b[1mwandb\u001b[0m: \tdropout: None\n",
      "\u001b[34m\u001b[1mwandb\u001b[0m: \tepochs: 8\n",
      "\u001b[34m\u001b[1mwandb\u001b[0m: \tfilter_size: 7\n",
      "\u001b[34m\u001b[1mwandb\u001b[0m: \thidden_size: 256\n",
      "\u001b[34m\u001b[1mwandb\u001b[0m: \tlr: 0.001\n",
      "\u001b[34m\u001b[1mwandb\u001b[0m: \tnum_conv_layers: 5\n",
      "\u001b[34m\u001b[1mwandb\u001b[0m: \tnum_filters: 4\n",
      "\u001b[34m\u001b[1mwandb\u001b[0m: \tnum_hidden_layers: 1\n",
      "\u001b[34m\u001b[1mwandb\u001b[0m: \toptimiser: adam\n",
      "\u001b[34m\u001b[1mwandb\u001b[0m: \tweight_decay: 0.005\n"
     ]
    },
    {
     "data": {
      "text/html": [
       "wandb version 0.16.5 is available!  To upgrade, please run:\n",
       " $ pip install wandb --upgrade"
      ],
      "text/plain": [
       "<IPython.core.display.HTML object>"
      ]
     },
     "metadata": {},
     "output_type": "display_data"
    },
    {
     "data": {
      "text/html": [
       "Tracking run with wandb version 0.16.4"
      ],
      "text/plain": [
       "<IPython.core.display.HTML object>"
      ]
     },
     "metadata": {},
     "output_type": "display_data"
    },
    {
     "data": {
      "text/html": [
       "Run data is saved locally in <code>/Users/tejasmalladi/Documents/OM NAMO VENKATESAYA/Jai Vigneshwara IIT MADRAS/JV SEM2/JV Deep Learning/JV Assignments/JV-Deep-Learning-Assignment2/wandb/run-20240403_052213-acnwfhzl</code>"
      ],
      "text/plain": [
       "<IPython.core.display.HTML object>"
      ]
     },
     "metadata": {},
     "output_type": "display_data"
    },
    {
     "data": {
      "text/html": [
       "Syncing run <strong><a href='https://wandb.ai/tmajestical/JV_CS23M036_TEJASVI_DL_ASSIGNMENT2/runs/acnwfhzl' target=\"_blank\">super-sweep-13</a></strong> to <a href='https://wandb.ai/tmajestical/JV_CS23M036_TEJASVI_DL_ASSIGNMENT2' target=\"_blank\">Weights & Biases</a> (<a href='https://wandb.me/run' target=\"_blank\">docs</a>)<br/>Sweep page: <a href='https://wandb.ai/tmajestical/JV_CS23M036_TEJASVI_DL_ASSIGNMENT2/sweeps/shrmtcif' target=\"_blank\">https://wandb.ai/tmajestical/JV_CS23M036_TEJASVI_DL_ASSIGNMENT2/sweeps/shrmtcif</a>"
      ],
      "text/plain": [
       "<IPython.core.display.HTML object>"
      ]
     },
     "metadata": {},
     "output_type": "display_data"
    },
    {
     "data": {
      "text/html": [
       " View project at <a href='https://wandb.ai/tmajestical/JV_CS23M036_TEJASVI_DL_ASSIGNMENT2' target=\"_blank\">https://wandb.ai/tmajestical/JV_CS23M036_TEJASVI_DL_ASSIGNMENT2</a>"
      ],
      "text/plain": [
       "<IPython.core.display.HTML object>"
      ]
     },
     "metadata": {},
     "output_type": "display_data"
    },
    {
     "data": {
      "text/html": [
       " View sweep at <a href='https://wandb.ai/tmajestical/JV_CS23M036_TEJASVI_DL_ASSIGNMENT2/sweeps/shrmtcif' target=\"_blank\">https://wandb.ai/tmajestical/JV_CS23M036_TEJASVI_DL_ASSIGNMENT2/sweeps/shrmtcif</a>"
      ],
      "text/plain": [
       "<IPython.core.display.HTML object>"
      ]
     },
     "metadata": {},
     "output_type": "display_data"
    },
    {
     "data": {
      "text/html": [
       " View run at <a href='https://wandb.ai/tmajestical/JV_CS23M036_TEJASVI_DL_ASSIGNMENT2/runs/acnwfhzl' target=\"_blank\">https://wandb.ai/tmajestical/JV_CS23M036_TEJASVI_DL_ASSIGNMENT2/runs/acnwfhzl</a>"
      ],
      "text/plain": [
       "<IPython.core.display.HTML object>"
      ]
     },
     "metadata": {},
     "output_type": "display_data"
    },
    {
     "name": "stdout",
     "output_type": "stream",
     "text": [
      "Using mps\n",
      "Preparing data from train/\n",
      "Preparing data from validation/\n",
      "Preparing data from test/\n"
     ]
    },
    {
     "data": {
      "application/vnd.jupyter.widget-view+json": {
       "model_id": "5ebb781eef434763bac8c66d5efff539",
       "version_major": 2,
       "version_minor": 0
      },
      "text/plain": [
       "  0%|          | 0/8 [00:00<?, ?it/s]"
      ]
     },
     "metadata": {},
     "output_type": "display_data"
    },
    {
     "name": "stdout",
     "output_type": "stream",
     "text": [
      "Samples in Train Data : 15998\n",
      "Epoch : 1\t Train Accuracy : 21.45%\t Train loss: 2.23\t Validation Accuracy : 24.50%\t Validation Loss : 2.12\n",
      "Epoch : 2\t Train Accuracy : 23.60%\t Train loss: 2.12\t Validation Accuracy : 24.00%\t Validation Loss : 2.11\n",
      "Epoch : 3\t Train Accuracy : 25.17%\t Train loss: 2.08\t Validation Accuracy : 24.55%\t Validation Loss : 2.10\n",
      "Epoch : 4\t Train Accuracy : 26.45%\t Train loss: 2.05\t Validation Accuracy : 24.75%\t Validation Loss : 2.04\n",
      "Epoch : 5\t Train Accuracy : 26.85%\t Train loss: 2.03\t Validation Accuracy : 27.40%\t Validation Loss : 2.02\n",
      "Epoch : 6\t Train Accuracy : 27.25%\t Train loss: 2.01\t Validation Accuracy : 25.05%\t Validation Loss : 2.09\n",
      "Epoch : 7\t Train Accuracy : 28.07%\t Train loss: 2.00\t Validation Accuracy : 27.75%\t Validation Loss : 1.98\n"
     ]
    },
    {
     "name": "stderr",
     "output_type": "stream",
     "text": [
      "wandb: Network error (ConnectionError), entering retry loop.\n",
      "\u001b[34m\u001b[1mwandb\u001b[0m: Network error (ConnectTimeout), entering retry loop.\n"
     ]
    },
    {
     "name": "stdout",
     "output_type": "stream",
     "text": [
      "Epoch : 8\t Train Accuracy : 28.42%\t Train loss: 1.99\t Validation Accuracy : 29.10%\t Validation Loss : 1.94\n",
      "Finished Training!!\n",
      "Time Taken for Training: 43.18\n"
     ]
    },
    {
     "data": {
      "application/vnd.jupyter.widget-view+json": {
       "model_id": "0d350dd483194e98ae0669e8f073609f",
       "version_major": 2,
       "version_minor": 0
      },
      "text/plain": [
       "VBox(children=(Label(value='0.001 MB of 0.001 MB uploaded\\r'), FloatProgress(value=1.0, max=1.0)))"
      ]
     },
     "metadata": {},
     "output_type": "display_data"
    },
    {
     "data": {
      "text/html": [
       "<style>\n",
       "    table.wandb td:nth-child(1) { padding: 0 10px; text-align: left ; width: auto;} td:nth-child(2) {text-align: left ; width: 100%}\n",
       "    .wandb-row { display: flex; flex-direction: row; flex-wrap: wrap; justify-content: flex-start; width: 100% }\n",
       "    .wandb-col { display: flex; flex-direction: column; flex-basis: 100%; flex: 1; padding: 10px; }\n",
       "    </style>\n",
       "<div class=\"wandb-row\"><div class=\"wandb-col\"><h3>Run history:</h3><br/><table class=\"wandb\"><tr><td>Validation accuracy</td><td>▂▁▂▂▆▂▆█</td></tr><tr><td>Validation loss</td><td>██▇▅▄▇▃▁</td></tr><tr><td>epoch</td><td>▁▂▃▄▅▆▇█</td></tr><tr><td>train accuracy</td><td>▁▃▅▆▆▇██</td></tr><tr><td>train loss</td><td>█▅▄▃▂▂▁▁</td></tr></table><br/></div><div class=\"wandb-col\"><h3>Run summary:</h3><br/><table class=\"wandb\"><tr><td>Validation accuracy</td><td>29.1</td></tr><tr><td>Validation loss</td><td>1.94</td></tr><tr><td>epoch</td><td>8</td></tr><tr><td>train accuracy</td><td>28.42</td></tr><tr><td>train loss</td><td>1.99222</td></tr></table><br/></div></div>"
      ],
      "text/plain": [
       "<IPython.core.display.HTML object>"
      ]
     },
     "metadata": {},
     "output_type": "display_data"
    },
    {
     "data": {
      "text/html": [
       " View run <strong style=\"color:#cdcd00\">super-sweep-13</strong> at: <a href='https://wandb.ai/tmajestical/JV_CS23M036_TEJASVI_DL_ASSIGNMENT2/runs/acnwfhzl' target=\"_blank\">https://wandb.ai/tmajestical/JV_CS23M036_TEJASVI_DL_ASSIGNMENT2/runs/acnwfhzl</a><br/>Synced 6 W&B file(s), 0 media file(s), 0 artifact file(s) and 0 other file(s)"
      ],
      "text/plain": [
       "<IPython.core.display.HTML object>"
      ]
     },
     "metadata": {},
     "output_type": "display_data"
    },
    {
     "data": {
      "text/html": [
       "Find logs at: <code>./wandb/run-20240403_052213-acnwfhzl/logs</code>"
      ],
      "text/plain": [
       "<IPython.core.display.HTML object>"
      ]
     },
     "metadata": {},
     "output_type": "display_data"
    },
    {
     "name": "stderr",
     "output_type": "stream",
     "text": [
      "\u001b[34m\u001b[1mwandb\u001b[0m: Agent Starting Run: xec80ui5 with config:\n",
      "\u001b[34m\u001b[1mwandb\u001b[0m: \tImage_Crop_Size: 800\n",
      "\u001b[34m\u001b[1mwandb\u001b[0m: \tactivation: relu\n",
      "\u001b[34m\u001b[1mwandb\u001b[0m: \tbatch_norm: True\n",
      "\u001b[34m\u001b[1mwandb\u001b[0m: \tconv_filter_factor: 0.5\n",
      "\u001b[34m\u001b[1mwandb\u001b[0m: \tdata_aug: 2\n",
      "\u001b[34m\u001b[1mwandb\u001b[0m: \tdropout: None\n",
      "\u001b[34m\u001b[1mwandb\u001b[0m: \tepochs: 8\n",
      "\u001b[34m\u001b[1mwandb\u001b[0m: \tfilter_size: 7\n",
      "\u001b[34m\u001b[1mwandb\u001b[0m: \thidden_size: 32\n",
      "\u001b[34m\u001b[1mwandb\u001b[0m: \tlr: 0.0001\n",
      "\u001b[34m\u001b[1mwandb\u001b[0m: \tnum_conv_layers: 5\n",
      "\u001b[34m\u001b[1mwandb\u001b[0m: \tnum_filters: 16\n",
      "\u001b[34m\u001b[1mwandb\u001b[0m: \tnum_hidden_layers: 1\n",
      "\u001b[34m\u001b[1mwandb\u001b[0m: \toptimiser: nadam\n",
      "\u001b[34m\u001b[1mwandb\u001b[0m: \tweight_decay: 0\n"
     ]
    },
    {
     "data": {
      "application/vnd.jupyter.widget-view+json": {
       "model_id": "d2ef549de4b14f8e9a30c772a7b0d189",
       "version_major": 2,
       "version_minor": 0
      },
      "text/plain": [
       "VBox(children=(Label(value='Waiting for wandb.init()...\\r'), FloatProgress(value=0.011138940744422144, max=1.0…"
      ]
     },
     "metadata": {},
     "output_type": "display_data"
    },
    {
     "data": {
      "text/html": [
       "wandb version 0.16.5 is available!  To upgrade, please run:\n",
       " $ pip install wandb --upgrade"
      ],
      "text/plain": [
       "<IPython.core.display.HTML object>"
      ]
     },
     "metadata": {},
     "output_type": "display_data"
    },
    {
     "data": {
      "text/html": [
       "Tracking run with wandb version 0.16.4"
      ],
      "text/plain": [
       "<IPython.core.display.HTML object>"
      ]
     },
     "metadata": {},
     "output_type": "display_data"
    },
    {
     "data": {
      "text/html": [
       "Run data is saved locally in <code>/Users/tejasmalladi/Documents/OM NAMO VENKATESAYA/Jai Vigneshwara IIT MADRAS/JV SEM2/JV Deep Learning/JV Assignments/JV-Deep-Learning-Assignment2/wandb/run-20240403_060601-xec80ui5</code>"
      ],
      "text/plain": [
       "<IPython.core.display.HTML object>"
      ]
     },
     "metadata": {},
     "output_type": "display_data"
    },
    {
     "data": {
      "text/html": [
       "Syncing run <strong><a href='https://wandb.ai/tmajestical/JV_CS23M036_TEJASVI_DL_ASSIGNMENT2/runs/xec80ui5' target=\"_blank\">polished-sweep-14</a></strong> to <a href='https://wandb.ai/tmajestical/JV_CS23M036_TEJASVI_DL_ASSIGNMENT2' target=\"_blank\">Weights & Biases</a> (<a href='https://wandb.me/run' target=\"_blank\">docs</a>)<br/>Sweep page: <a href='https://wandb.ai/tmajestical/JV_CS23M036_TEJASVI_DL_ASSIGNMENT2/sweeps/shrmtcif' target=\"_blank\">https://wandb.ai/tmajestical/JV_CS23M036_TEJASVI_DL_ASSIGNMENT2/sweeps/shrmtcif</a>"
      ],
      "text/plain": [
       "<IPython.core.display.HTML object>"
      ]
     },
     "metadata": {},
     "output_type": "display_data"
    },
    {
     "data": {
      "text/html": [
       " View project at <a href='https://wandb.ai/tmajestical/JV_CS23M036_TEJASVI_DL_ASSIGNMENT2' target=\"_blank\">https://wandb.ai/tmajestical/JV_CS23M036_TEJASVI_DL_ASSIGNMENT2</a>"
      ],
      "text/plain": [
       "<IPython.core.display.HTML object>"
      ]
     },
     "metadata": {},
     "output_type": "display_data"
    },
    {
     "data": {
      "text/html": [
       " View sweep at <a href='https://wandb.ai/tmajestical/JV_CS23M036_TEJASVI_DL_ASSIGNMENT2/sweeps/shrmtcif' target=\"_blank\">https://wandb.ai/tmajestical/JV_CS23M036_TEJASVI_DL_ASSIGNMENT2/sweeps/shrmtcif</a>"
      ],
      "text/plain": [
       "<IPython.core.display.HTML object>"
      ]
     },
     "metadata": {},
     "output_type": "display_data"
    },
    {
     "data": {
      "text/html": [
       " View run at <a href='https://wandb.ai/tmajestical/JV_CS23M036_TEJASVI_DL_ASSIGNMENT2/runs/xec80ui5' target=\"_blank\">https://wandb.ai/tmajestical/JV_CS23M036_TEJASVI_DL_ASSIGNMENT2/runs/xec80ui5</a>"
      ],
      "text/plain": [
       "<IPython.core.display.HTML object>"
      ]
     },
     "metadata": {},
     "output_type": "display_data"
    },
    {
     "name": "stdout",
     "output_type": "stream",
     "text": [
      "Using mps\n",
      "Preparing data from train/\n",
      "Preparing data from validation/\n",
      "Preparing data from test/\n"
     ]
    },
    {
     "data": {
      "application/vnd.jupyter.widget-view+json": {
       "model_id": "8c2c52b02c1c46ae805b215ed31aee84",
       "version_major": 2,
       "version_minor": 0
      },
      "text/plain": [
       "  0%|          | 0/8 [00:00<?, ?it/s]"
      ]
     },
     "metadata": {},
     "output_type": "display_data"
    },
    {
     "name": "stdout",
     "output_type": "stream",
     "text": [
      "Samples in Train Data : 23997\n",
      "Epoch : 1\t Train Accuracy : 23.86%\t Train loss: 2.17\t Validation Accuracy : 29.65%\t Validation Loss : 2.01\n",
      "Epoch : 2\t Train Accuracy : 34.31%\t Train loss: 1.89\t Validation Accuracy : 27.75%\t Validation Loss : 2.05\n",
      "Epoch : 3\t Train Accuracy : 48.24%\t Train loss: 1.59\t Validation Accuracy : 28.40%\t Validation Loss : 2.08\n",
      "Epoch : 4\t Train Accuracy : 62.45%\t Train loss: 1.26\t Validation Accuracy : 25.95%\t Validation Loss : 2.24\n",
      "Epoch : 5\t Train Accuracy : 69.08%\t Train loss: 1.05\t Validation Accuracy : 24.65%\t Validation Loss : 2.30\n",
      "Epoch : 6\t Train Accuracy : 71.92%\t Train loss: 0.93\t Validation Accuracy : 25.65%\t Validation Loss : 2.33\n",
      "Epoch : 7\t Train Accuracy : 73.62%\t Train loss: 0.86\t Validation Accuracy : 24.30%\t Validation Loss : 2.49\n",
      "Epoch : 8\t Train Accuracy : 74.32%\t Train loss: 0.82\t Validation Accuracy : 26.80%\t Validation Loss : 2.56\n",
      "Finished Training!!\n",
      "Time Taken for Training: 56.26\n"
     ]
    },
    {
     "data": {
      "application/vnd.jupyter.widget-view+json": {
       "model_id": "057a19822f554295815e54310064562e",
       "version_major": 2,
       "version_minor": 0
      },
      "text/plain": [
       "VBox(children=(Label(value='0.001 MB of 0.001 MB uploaded\\r'), FloatProgress(value=1.0, max=1.0)))"
      ]
     },
     "metadata": {},
     "output_type": "display_data"
    },
    {
     "data": {
      "text/html": [
       "<style>\n",
       "    table.wandb td:nth-child(1) { padding: 0 10px; text-align: left ; width: auto;} td:nth-child(2) {text-align: left ; width: 100%}\n",
       "    .wandb-row { display: flex; flex-direction: row; flex-wrap: wrap; justify-content: flex-start; width: 100% }\n",
       "    .wandb-col { display: flex; flex-direction: column; flex-basis: 100%; flex: 1; padding: 10px; }\n",
       "    </style>\n",
       "<div class=\"wandb-row\"><div class=\"wandb-col\"><h3>Run history:</h3><br/><table class=\"wandb\"><tr><td>Validation accuracy</td><td>█▆▆▃▁▃▁▄</td></tr><tr><td>Validation loss</td><td>▁▂▂▄▅▅▇█</td></tr><tr><td>epoch</td><td>▁▂▃▄▅▆▇█</td></tr><tr><td>train accuracy</td><td>▁▂▄▆▇███</td></tr><tr><td>train loss</td><td>█▇▅▃▂▂▁▁</td></tr></table><br/></div><div class=\"wandb-col\"><h3>Run summary:</h3><br/><table class=\"wandb\"><tr><td>Validation accuracy</td><td>26.8</td></tr><tr><td>Validation loss</td><td>2.56</td></tr><tr><td>epoch</td><td>8</td></tr><tr><td>train accuracy</td><td>74.32</td></tr><tr><td>train loss</td><td>0.81904</td></tr></table><br/></div></div>"
      ],
      "text/plain": [
       "<IPython.core.display.HTML object>"
      ]
     },
     "metadata": {},
     "output_type": "display_data"
    },
    {
     "data": {
      "text/html": [
       " View run <strong style=\"color:#cdcd00\">polished-sweep-14</strong> at: <a href='https://wandb.ai/tmajestical/JV_CS23M036_TEJASVI_DL_ASSIGNMENT2/runs/xec80ui5' target=\"_blank\">https://wandb.ai/tmajestical/JV_CS23M036_TEJASVI_DL_ASSIGNMENT2/runs/xec80ui5</a><br/>Synced 6 W&B file(s), 0 media file(s), 0 artifact file(s) and 0 other file(s)"
      ],
      "text/plain": [
       "<IPython.core.display.HTML object>"
      ]
     },
     "metadata": {},
     "output_type": "display_data"
    },
    {
     "data": {
      "text/html": [
       "Find logs at: <code>./wandb/run-20240403_060601-xec80ui5/logs</code>"
      ],
      "text/plain": [
       "<IPython.core.display.HTML object>"
      ]
     },
     "metadata": {},
     "output_type": "display_data"
    },
    {
     "name": "stderr",
     "output_type": "stream",
     "text": [
      "\u001b[34m\u001b[1mwandb\u001b[0m: Agent Starting Run: 0kftblyo with config:\n",
      "\u001b[34m\u001b[1mwandb\u001b[0m: \tImage_Crop_Size: 800\n",
      "\u001b[34m\u001b[1mwandb\u001b[0m: \tactivation: tanh\n",
      "\u001b[34m\u001b[1mwandb\u001b[0m: \tbatch_norm: False\n",
      "\u001b[34m\u001b[1mwandb\u001b[0m: \tconv_filter_factor: 0.5\n",
      "\u001b[34m\u001b[1mwandb\u001b[0m: \tdata_aug: 2\n",
      "\u001b[34m\u001b[1mwandb\u001b[0m: \tdropout: 0.3\n",
      "\u001b[34m\u001b[1mwandb\u001b[0m: \tepochs: 8\n",
      "\u001b[34m\u001b[1mwandb\u001b[0m: \tfilter_size: 7\n",
      "\u001b[34m\u001b[1mwandb\u001b[0m: \thidden_size: 64\n",
      "\u001b[34m\u001b[1mwandb\u001b[0m: \tlr: 0.0003\n",
      "\u001b[34m\u001b[1mwandb\u001b[0m: \tnum_conv_layers: 5\n",
      "\u001b[34m\u001b[1mwandb\u001b[0m: \tnum_filters: 8\n",
      "\u001b[34m\u001b[1mwandb\u001b[0m: \tnum_hidden_layers: 1\n",
      "\u001b[34m\u001b[1mwandb\u001b[0m: \toptimiser: adam\n",
      "\u001b[34m\u001b[1mwandb\u001b[0m: \tweight_decay: 0\n"
     ]
    },
    {
     "data": {
      "text/html": [
       "wandb version 0.16.5 is available!  To upgrade, please run:\n",
       " $ pip install wandb --upgrade"
      ],
      "text/plain": [
       "<IPython.core.display.HTML object>"
      ]
     },
     "metadata": {},
     "output_type": "display_data"
    },
    {
     "data": {
      "text/html": [
       "Tracking run with wandb version 0.16.4"
      ],
      "text/plain": [
       "<IPython.core.display.HTML object>"
      ]
     },
     "metadata": {},
     "output_type": "display_data"
    },
    {
     "data": {
      "text/html": [
       "Run data is saved locally in <code>/Users/tejasmalladi/Documents/OM NAMO VENKATESAYA/Jai Vigneshwara IIT MADRAS/JV SEM2/JV Deep Learning/JV Assignments/JV-Deep-Learning-Assignment2/wandb/run-20240403_070251-0kftblyo</code>"
      ],
      "text/plain": [
       "<IPython.core.display.HTML object>"
      ]
     },
     "metadata": {},
     "output_type": "display_data"
    },
    {
     "data": {
      "text/html": [
       "Syncing run <strong><a href='https://wandb.ai/tmajestical/JV_CS23M036_TEJASVI_DL_ASSIGNMENT2/runs/0kftblyo' target=\"_blank\">upbeat-sweep-15</a></strong> to <a href='https://wandb.ai/tmajestical/JV_CS23M036_TEJASVI_DL_ASSIGNMENT2' target=\"_blank\">Weights & Biases</a> (<a href='https://wandb.me/run' target=\"_blank\">docs</a>)<br/>Sweep page: <a href='https://wandb.ai/tmajestical/JV_CS23M036_TEJASVI_DL_ASSIGNMENT2/sweeps/shrmtcif' target=\"_blank\">https://wandb.ai/tmajestical/JV_CS23M036_TEJASVI_DL_ASSIGNMENT2/sweeps/shrmtcif</a>"
      ],
      "text/plain": [
       "<IPython.core.display.HTML object>"
      ]
     },
     "metadata": {},
     "output_type": "display_data"
    },
    {
     "data": {
      "text/html": [
       " View project at <a href='https://wandb.ai/tmajestical/JV_CS23M036_TEJASVI_DL_ASSIGNMENT2' target=\"_blank\">https://wandb.ai/tmajestical/JV_CS23M036_TEJASVI_DL_ASSIGNMENT2</a>"
      ],
      "text/plain": [
       "<IPython.core.display.HTML object>"
      ]
     },
     "metadata": {},
     "output_type": "display_data"
    },
    {
     "data": {
      "text/html": [
       " View sweep at <a href='https://wandb.ai/tmajestical/JV_CS23M036_TEJASVI_DL_ASSIGNMENT2/sweeps/shrmtcif' target=\"_blank\">https://wandb.ai/tmajestical/JV_CS23M036_TEJASVI_DL_ASSIGNMENT2/sweeps/shrmtcif</a>"
      ],
      "text/plain": [
       "<IPython.core.display.HTML object>"
      ]
     },
     "metadata": {},
     "output_type": "display_data"
    },
    {
     "data": {
      "text/html": [
       " View run at <a href='https://wandb.ai/tmajestical/JV_CS23M036_TEJASVI_DL_ASSIGNMENT2/runs/0kftblyo' target=\"_blank\">https://wandb.ai/tmajestical/JV_CS23M036_TEJASVI_DL_ASSIGNMENT2/runs/0kftblyo</a>"
      ],
      "text/plain": [
       "<IPython.core.display.HTML object>"
      ]
     },
     "metadata": {},
     "output_type": "display_data"
    },
    {
     "name": "stdout",
     "output_type": "stream",
     "text": [
      "Using mps\n",
      "Preparing data from train/\n",
      "Preparing data from validation/\n",
      "Preparing data from test/\n"
     ]
    },
    {
     "data": {
      "application/vnd.jupyter.widget-view+json": {
       "model_id": "428c063262c04673bf2b79c162faf772",
       "version_major": 2,
       "version_minor": 0
      },
      "text/plain": [
       "  0%|          | 0/8 [00:00<?, ?it/s]"
      ]
     },
     "metadata": {},
     "output_type": "display_data"
    },
    {
     "name": "stdout",
     "output_type": "stream",
     "text": [
      "Samples in Train Data : 23997\n",
      "Epoch : 1\t Train Accuracy : 9.79%\t Train loss: 2.66\t Validation Accuracy : 10.00%\t Validation Loss : 2.31\n",
      "Epoch : 2\t Train Accuracy : 9.74%\t Train loss: 2.50\t Validation Accuracy : 10.00%\t Validation Loss : 2.31\n",
      "Epoch : 3\t Train Accuracy : 10.13%\t Train loss: 2.44\t Validation Accuracy : 10.00%\t Validation Loss : 2.31\n",
      "Epoch : 4\t Train Accuracy : 10.25%\t Train loss: 2.39\t Validation Accuracy : 10.00%\t Validation Loss : 2.31\n",
      "Epoch : 5\t Train Accuracy : 9.92%\t Train loss: 2.36\t Validation Accuracy : 10.00%\t Validation Loss : 2.31\n",
      "Epoch : 6\t Train Accuracy : 9.68%\t Train loss: 2.35\t Validation Accuracy : 10.00%\t Validation Loss : 2.31\n",
      "Epoch : 7\t Train Accuracy : 9.86%\t Train loss: 2.33\t Validation Accuracy : 10.00%\t Validation Loss : 2.31\n",
      "Epoch : 8\t Train Accuracy : 10.34%\t Train loss: 2.32\t Validation Accuracy : 10.00%\t Validation Loss : 2.31\n",
      "Finished Training!!\n",
      "Time Taken for Training: 54.45\n"
     ]
    },
    {
     "data": {
      "application/vnd.jupyter.widget-view+json": {
       "model_id": "b99ad26b7db34a5698e5a7d9bdc33439",
       "version_major": 2,
       "version_minor": 0
      },
      "text/plain": [
       "VBox(children=(Label(value='0.001 MB of 0.001 MB uploaded\\r'), FloatProgress(value=1.0, max=1.0)))"
      ]
     },
     "metadata": {},
     "output_type": "display_data"
    },
    {
     "data": {
      "text/html": [
       "<style>\n",
       "    table.wandb td:nth-child(1) { padding: 0 10px; text-align: left ; width: auto;} td:nth-child(2) {text-align: left ; width: 100%}\n",
       "    .wandb-row { display: flex; flex-direction: row; flex-wrap: wrap; justify-content: flex-start; width: 100% }\n",
       "    .wandb-col { display: flex; flex-direction: column; flex-basis: 100%; flex: 1; padding: 10px; }\n",
       "    </style>\n",
       "<div class=\"wandb-row\"><div class=\"wandb-col\"><h3>Run history:</h3><br/><table class=\"wandb\"><tr><td>Validation accuracy</td><td>▁▁▁▁▁▁▁▁</td></tr><tr><td>Validation loss</td><td>▁▁▁▁▁▁▁▁</td></tr><tr><td>epoch</td><td>▁▂▃▄▅▆▇█</td></tr><tr><td>train accuracy</td><td>▂▂▆▇▄▁▃█</td></tr><tr><td>train loss</td><td>█▅▃▂▂▂▁▁</td></tr></table><br/></div><div class=\"wandb-col\"><h3>Run summary:</h3><br/><table class=\"wandb\"><tr><td>Validation accuracy</td><td>10.0</td></tr><tr><td>Validation loss</td><td>2.31</td></tr><tr><td>epoch</td><td>8</td></tr><tr><td>train accuracy</td><td>10.34</td></tr><tr><td>train loss</td><td>2.32293</td></tr></table><br/></div></div>"
      ],
      "text/plain": [
       "<IPython.core.display.HTML object>"
      ]
     },
     "metadata": {},
     "output_type": "display_data"
    },
    {
     "data": {
      "text/html": [
       " View run <strong style=\"color:#cdcd00\">upbeat-sweep-15</strong> at: <a href='https://wandb.ai/tmajestical/JV_CS23M036_TEJASVI_DL_ASSIGNMENT2/runs/0kftblyo' target=\"_blank\">https://wandb.ai/tmajestical/JV_CS23M036_TEJASVI_DL_ASSIGNMENT2/runs/0kftblyo</a><br/>Synced 6 W&B file(s), 0 media file(s), 0 artifact file(s) and 0 other file(s)"
      ],
      "text/plain": [
       "<IPython.core.display.HTML object>"
      ]
     },
     "metadata": {},
     "output_type": "display_data"
    },
    {
     "data": {
      "text/html": [
       "Find logs at: <code>./wandb/run-20240403_070251-0kftblyo/logs</code>"
      ],
      "text/plain": [
       "<IPython.core.display.HTML object>"
      ]
     },
     "metadata": {},
     "output_type": "display_data"
    },
    {
     "name": "stderr",
     "output_type": "stream",
     "text": [
      "\u001b[34m\u001b[1mwandb\u001b[0m: Agent Starting Run: j0kwehck with config:\n",
      "\u001b[34m\u001b[1mwandb\u001b[0m: \tImage_Crop_Size: 500\n",
      "\u001b[34m\u001b[1mwandb\u001b[0m: \tactivation: tanh\n",
      "\u001b[34m\u001b[1mwandb\u001b[0m: \tbatch_norm: False\n",
      "\u001b[34m\u001b[1mwandb\u001b[0m: \tconv_filter_factor: 1\n",
      "\u001b[34m\u001b[1mwandb\u001b[0m: \tdata_aug: 2\n",
      "\u001b[34m\u001b[1mwandb\u001b[0m: \tdropout: 0.2\n",
      "\u001b[34m\u001b[1mwandb\u001b[0m: \tepochs: 8\n",
      "\u001b[34m\u001b[1mwandb\u001b[0m: \tfilter_size: 5\n",
      "\u001b[34m\u001b[1mwandb\u001b[0m: \thidden_size: 32\n",
      "\u001b[34m\u001b[1mwandb\u001b[0m: \tlr: 0.0003\n",
      "\u001b[34m\u001b[1mwandb\u001b[0m: \tnum_conv_layers: 5\n",
      "\u001b[34m\u001b[1mwandb\u001b[0m: \tnum_filters: 16\n",
      "\u001b[34m\u001b[1mwandb\u001b[0m: \tnum_hidden_layers: 1\n",
      "\u001b[34m\u001b[1mwandb\u001b[0m: \toptimiser: adam\n",
      "\u001b[34m\u001b[1mwandb\u001b[0m: \tweight_decay: 0.0005\n"
     ]
    },
    {
     "data": {
      "text/html": [
       "wandb version 0.16.5 is available!  To upgrade, please run:\n",
       " $ pip install wandb --upgrade"
      ],
      "text/plain": [
       "<IPython.core.display.HTML object>"
      ]
     },
     "metadata": {},
     "output_type": "display_data"
    },
    {
     "data": {
      "text/html": [
       "Tracking run with wandb version 0.16.4"
      ],
      "text/plain": [
       "<IPython.core.display.HTML object>"
      ]
     },
     "metadata": {},
     "output_type": "display_data"
    },
    {
     "data": {
      "text/html": [
       "Run data is saved locally in <code>/Users/tejasmalladi/Documents/OM NAMO VENKATESAYA/Jai Vigneshwara IIT MADRAS/JV SEM2/JV Deep Learning/JV Assignments/JV-Deep-Learning-Assignment2/wandb/run-20240403_075753-j0kwehck</code>"
      ],
      "text/plain": [
       "<IPython.core.display.HTML object>"
      ]
     },
     "metadata": {},
     "output_type": "display_data"
    },
    {
     "data": {
      "text/html": [
       "Syncing run <strong><a href='https://wandb.ai/tmajestical/JV_CS23M036_TEJASVI_DL_ASSIGNMENT2/runs/j0kwehck' target=\"_blank\">skilled-sweep-16</a></strong> to <a href='https://wandb.ai/tmajestical/JV_CS23M036_TEJASVI_DL_ASSIGNMENT2' target=\"_blank\">Weights & Biases</a> (<a href='https://wandb.me/run' target=\"_blank\">docs</a>)<br/>Sweep page: <a href='https://wandb.ai/tmajestical/JV_CS23M036_TEJASVI_DL_ASSIGNMENT2/sweeps/shrmtcif' target=\"_blank\">https://wandb.ai/tmajestical/JV_CS23M036_TEJASVI_DL_ASSIGNMENT2/sweeps/shrmtcif</a>"
      ],
      "text/plain": [
       "<IPython.core.display.HTML object>"
      ]
     },
     "metadata": {},
     "output_type": "display_data"
    },
    {
     "data": {
      "text/html": [
       " View project at <a href='https://wandb.ai/tmajestical/JV_CS23M036_TEJASVI_DL_ASSIGNMENT2' target=\"_blank\">https://wandb.ai/tmajestical/JV_CS23M036_TEJASVI_DL_ASSIGNMENT2</a>"
      ],
      "text/plain": [
       "<IPython.core.display.HTML object>"
      ]
     },
     "metadata": {},
     "output_type": "display_data"
    },
    {
     "data": {
      "text/html": [
       " View sweep at <a href='https://wandb.ai/tmajestical/JV_CS23M036_TEJASVI_DL_ASSIGNMENT2/sweeps/shrmtcif' target=\"_blank\">https://wandb.ai/tmajestical/JV_CS23M036_TEJASVI_DL_ASSIGNMENT2/sweeps/shrmtcif</a>"
      ],
      "text/plain": [
       "<IPython.core.display.HTML object>"
      ]
     },
     "metadata": {},
     "output_type": "display_data"
    },
    {
     "data": {
      "text/html": [
       " View run at <a href='https://wandb.ai/tmajestical/JV_CS23M036_TEJASVI_DL_ASSIGNMENT2/runs/j0kwehck' target=\"_blank\">https://wandb.ai/tmajestical/JV_CS23M036_TEJASVI_DL_ASSIGNMENT2/runs/j0kwehck</a>"
      ],
      "text/plain": [
       "<IPython.core.display.HTML object>"
      ]
     },
     "metadata": {},
     "output_type": "display_data"
    },
    {
     "name": "stdout",
     "output_type": "stream",
     "text": [
      "Using mps\n",
      "Preparing data from train/\n",
      "Preparing data from validation/\n",
      "Preparing data from test/\n"
     ]
    },
    {
     "data": {
      "application/vnd.jupyter.widget-view+json": {
       "model_id": "7c9db51519ff459588d28901c1e68904",
       "version_major": 2,
       "version_minor": 0
      },
      "text/plain": [
       "  0%|          | 0/8 [00:00<?, ?it/s]"
      ]
     },
     "metadata": {},
     "output_type": "display_data"
    },
    {
     "name": "stdout",
     "output_type": "stream",
     "text": [
      "Samples in Train Data : 23997\n",
      "Epoch : 1\t Train Accuracy : 18.50%\t Train loss: 2.21\t Validation Accuracy : 23.00%\t Validation Loss : 2.12\n",
      "Epoch : 2\t Train Accuracy : 28.59%\t Train loss: 2.02\t Validation Accuracy : 23.50%\t Validation Loss : 2.12\n"
     ]
    }
   ],
   "source": [
    "def main():\n",
    "    '''\n",
    "    WandB calls main function each time with differnet combination.\n",
    "\n",
    "    We can retrive the same and use the same values for our hypermeters.\n",
    "\n",
    "    '''\n",
    "\n",
    "\n",
    "    with wandb.init() as run:\n",
    "\n",
    "        run_name=\"-hl_\"+str(wandb.config.num_hidden_layers)+\"-hs_\"+str(wandb.config.hidden_size)+\"-ac_\"+str(wandb.config.activation)\n",
    "\n",
    "        run_name = run_name+\"-optim_\"+str(wandb.config.optimiser)+\"-lr_\"+str(wandb.config.lr)+\"-reg_\"+str(wandb.config.weight_decay)+\"-epochs_\"+str(wandb.config.epochs)+\"-data_aug\"+str(wandb.config.data_aug)\n",
    "\n",
    "        run_name = run_name+\"-dropout_\"+str(wandb.config.dropout)+\"-batch_norm_\"+str(wandb.config.batch_norm)+\"-conv_filter_factor_\"+str(wandb.config.conv_filter_factor)+\"-num_filters_\"+str(wandb.config.num_filters)+\"-filter_size_\"+str(wandb.config.filter_size)\n",
    "\n",
    "        wandb.run.name=run_name\n",
    "\n",
    "        setup_and_start_expt(wandb.config,wandb_log = True,kaggle = False)\n",
    "\n",
    "\n",
    "wandb.agent(sweep_id, function=main,count=100) # calls main function for count number of times.\n",
    "wandb.finish()"
   ]
  },
  {
   "cell_type": "code",
   "execution_count": null,
   "metadata": {},
   "outputs": [],
   "source": []
  },
  {
   "cell_type": "markdown",
   "metadata": {},
   "source": [
    "### References:\n",
    "\n",
    "1. https://pytorch.org/vision/stable/models/generated/torchvision.models.resnet50.html#torchvision.models.resnet50"
   ]
  },
  {
   "cell_type": "code",
   "execution_count": null,
   "metadata": {},
   "outputs": [],
   "source": []
  }
 ],
 "metadata": {
  "kaggle": {
   "accelerator": "nvidiaTeslaT4",
   "dataSources": [
    {
     "datasetId": 4675321,
     "sourceId": 7950185,
     "sourceType": "datasetVersion"
    }
   ],
   "dockerImageVersionId": 30674,
   "isGpuEnabled": true,
   "isInternetEnabled": true,
   "language": "python",
   "sourceType": "notebook"
  },
  "kernelspec": {
   "display_name": "Python 3 (ipykernel)",
   "language": "python",
   "name": "python3"
  },
  "language_info": {
   "codemirror_mode": {
    "name": "ipython",
    "version": 3
   },
   "file_extension": ".py",
   "mimetype": "text/x-python",
   "name": "python",
   "nbconvert_exporter": "python",
   "pygments_lexer": "ipython3",
   "version": "3.8.18"
  }
 },
 "nbformat": 4,
 "nbformat_minor": 4
}
